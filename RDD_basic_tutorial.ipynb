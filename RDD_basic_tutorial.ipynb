{
  "nbformat": 4,
  "nbformat_minor": 0,
  "metadata": {
    "colab": {
      "name": "RDD basic tutorial.ipynb",
      "version": "0.3.2",
      "provenance": [],
      "include_colab_link": true
    },
    "kernelspec": {
      "name": "python2",
      "display_name": "Python 2"
    }
  },
  "cells": [
    {
      "cell_type": "markdown",
      "metadata": {
        "id": "view-in-github",
        "colab_type": "text"
      },
      "source": [
        "[View in Colaboratory](https://colab.research.google.com/github/UDICatNCHU/SparkTutorial/blob/master/RDD_basic_tutorial.ipynb)"
      ]
    },
    {
      "metadata": {
        "id": "cF0hz0LrunvS",
        "colab_type": "code",
        "colab": {}
      },
      "cell_type": "code",
      "source": [
        "# 環境初始化 (大約三至五分鐘)\n",
        "! wget -O init_env.sh https://www.dropbox.com/s/6bnwn8u2hz19s59/init_env.sh && \\\n",
        "bash init_env.sh"
      ],
      "execution_count": 0,
      "outputs": []
    },
    {
      "metadata": {
        "id": "f1m9p6bAuwgY",
        "colab_type": "code",
        "colab": {}
      },
      "cell_type": "code",
      "source": [
        "import os, sys\n",
        "os.environ['SPARK_HOME'] = \"/usr/local/spark\"\n",
        "os.environ['PYSPARK_PYTHON'] = \"/usr/bin/python\"\n",
        "sys.path.append(\"/usr/local/spark/python/\")\n",
        "sys.path.append(\"/usr/local/spark/python/lib/pyspark.zip\")\n",
        "sys.path.append(\"/usr/local/spark/python/lib/py4j-0.10.4-src.zip\")"
      ],
      "execution_count": 0,
      "outputs": []
    },
    {
      "metadata": {
        "id": "Siw9OMRLu0uA",
        "colab_type": "code",
        "colab": {}
      },
      "cell_type": "code",
      "source": [
        "from pyspark import SparkContext\n",
        "from pyspark import SparkConf\n",
        "sc = SparkContext()"
      ],
      "execution_count": 0,
      "outputs": []
    },
    {
      "metadata": {
        "id": "RtUgrtwrt1Qa",
        "colab_type": "text"
      },
      "cell_type": "markdown",
      "source": [
        "# Apache Spark 基本練習：\n",
        "\n",
        "是一個開源叢集運算框架，最初是由加州大學柏克萊分校AMPLab所開發。相對於Hadoop的MapReduce會在執行完工作後將中介資料存放到磁碟中，Spark使用了記憶體內運算技術，能在資料尚未寫入硬碟時即在記憶體內分析運算。Spark在記憶體內執行程式的運算速度能做到比Hadoop MapReduce的運算速度快上100倍。\n",
        "\n",
        "Some References :\n",
        "\n",
        "1. [http://www.mccarroll.net/blog/pyspark/index.html]\n",
        "2. [https://www.codementor.io/spark/tutorial/spark-python-rdd-basics]\n",
        "3. [http://backtobazics.com/big-data/spark/apache-spark-map-example/]\n",
        "4. [http://datascience-enthusiast.com/Python/Apache_Spark1.html]\n",
        "\n",
        "## RDD 基本操作練習：\n",
        "\n",
        "\n",
        "\n",
        "### 產生一個整數隨機陣列： python語法："
      ]
    },
    {
      "metadata": {
        "id": "I--b66Kzt1Qc",
        "colab_type": "code",
        "colab": {}
      },
      "cell_type": "code",
      "source": [
        "import numpy as np\n",
        "random_array = np.random.randint(1000, size=1000)\n",
        "print (random_array)"
      ],
      "execution_count": 0,
      "outputs": []
    },
    {
      "metadata": {
        "id": "l6qyKmz4t1Qg",
        "colab_type": "text"
      },
      "cell_type": "markdown",
      "source": [
        "# 將資料轉成RDD，分別擺放於各spark executors上\n",
        "\n",
        "<img src=\"https://www.dropbox.com/s/br94ete5q3rj9w3/spark%20data%20model.png?dl=1\" width=\"500\" align=\"left\">\n",
        "\n",
        "\n",
        "\n",
        "\n",
        "___\n",
        "<img src=\"https://www.dropbox.com/s/l2gohpmn53jkv1b/%20spark%20system%20overview.png?dl=1\" width=\"500\" align=\"left\">"
      ]
    },
    {
      "metadata": {
        "id": "MeFSq7rbt1Qg",
        "colab_type": "code",
        "colab": {}
      },
      "cell_type": "code",
      "source": [
        "rdd = sc.parallelize(random_array)"
      ],
      "execution_count": 0,
      "outputs": []
    },
    {
      "metadata": {
        "id": "GiQqw6x0t1Qi",
        "colab_type": "code",
        "colab": {
          "base_uri": "https://localhost:8080/",
          "height": 70
        },
        "outputId": "53b87f7e-e791-4a1b-8c18-a2397bebea1e"
      },
      "cell_type": "code",
      "source": [
        "print type(random_array)\n",
        "print type(rdd)\n",
        "print type(rdd.collect())"
      ],
      "execution_count": 10,
      "outputs": [
        {
          "output_type": "stream",
          "text": [
            "<type 'numpy.ndarray'>\n",
            "<class 'pyspark.rdd.RDD'>\n",
            "<type 'list'>\n"
          ],
          "name": "stdout"
        }
      ]
    },
    {
      "metadata": {
        "id": "IMGznHMkt1Qk",
        "colab_type": "text"
      },
      "cell_type": "markdown",
      "source": [
        "### RDD為Apache Spark最核心之概念，有別於MapRduce，僅提供Map()與Reduce()兩項操作。 RDD提供兩大類別Transformation與Action\n",
        "\n"
      ]
    },
    {
      "metadata": {
        "id": "mJUQZL9lt1Qm",
        "colab_type": "text"
      },
      "cell_type": "markdown",
      "source": [
        "> <img src=\"https://www.dropbox.com/s/omfoi3uzcgapcm4/rdd%20transformation%20concept.png?dl=1\" width=\"500\" align=\"left\">  "
      ]
    },
    {
      "metadata": {
        "id": "kC-QgXwjt1Qm",
        "colab_type": "text"
      },
      "cell_type": "markdown",
      "source": [
        "> <img src=\"https://www.dropbox.com/s/3u8gt5376qq5vjy/spark%20core.png?dl=1\" width=\"500\" align=\"left\">"
      ]
    },
    {
      "metadata": {
        "id": "TQtTc14Wt1Qm",
        "colab_type": "text"
      },
      "cell_type": "markdown",
      "source": [
        "## 最基本之Action操作  \n",
        "### 使用 collect( ) 將分散於各機器之資料，收集成為單機資料集\n",
        "<img src=\"https://www.dropbox.com/s/pjv20pl5wkevjf6/collect.png?dl=1\" width=\"500\" align=\"left\">\n"
      ]
    },
    {
      "metadata": {
        "id": "mN3hI6UAt1Qn",
        "colab_type": "code",
        "colab": {
          "base_uri": "https://localhost:8080/",
          "height": 34
        },
        "outputId": "d932bcb2-f65e-45c1-ca86-0626b4300212"
      },
      "cell_type": "code",
      "source": [
        "rdd.first()"
      ],
      "execution_count": 11,
      "outputs": [
        {
          "output_type": "execute_result",
          "data": {
            "text/plain": [
              "16"
            ]
          },
          "metadata": {
            "tags": []
          },
          "execution_count": 11
        }
      ]
    },
    {
      "metadata": {
        "id": "fa8Z0Zwht1Qp",
        "colab_type": "text"
      },
      "cell_type": "markdown",
      "source": [
        "## Transformation 觀念介紹"
      ]
    },
    {
      "metadata": {
        "id": "XFThLRfCt1Qq",
        "colab_type": "code",
        "colab": {
          "base_uri": "https://localhost:8080/",
          "height": 34
        },
        "outputId": "874a72b1-3889-498c-ecdf-f5f622bcda45"
      },
      "cell_type": "code",
      "source": [
        "def doubling(x):\n",
        "    return x*2\n",
        "\n",
        "print doubling(10)"
      ],
      "execution_count": 12,
      "outputs": [
        {
          "output_type": "stream",
          "text": [
            "20\n"
          ],
          "name": "stdout"
        }
      ]
    },
    {
      "metadata": {
        "id": "cVLdPhDNt1Qs",
        "colab_type": "code",
        "colab": {
          "base_uri": "https://localhost:8080/",
          "height": 34
        },
        "outputId": "39e38811-3850-48ad-dc93-fa09da99df24"
      },
      "cell_type": "code",
      "source": [
        "rdd.take(5)"
      ],
      "execution_count": 15,
      "outputs": [
        {
          "output_type": "execute_result",
          "data": {
            "text/plain": [
              "[16, 55, 700, 749, 238]"
            ]
          },
          "metadata": {
            "tags": []
          },
          "execution_count": 15
        }
      ]
    },
    {
      "metadata": {
        "id": "FqAxyXPqt1Qu",
        "colab_type": "code",
        "colab": {
          "base_uri": "https://localhost:8080/",
          "height": 34
        },
        "outputId": "f4844d11-3933-4ca0-fcc1-de53f48757fa"
      },
      "cell_type": "code",
      "source": [
        "rdd.map(doubling).take(5)"
      ],
      "execution_count": 16,
      "outputs": [
        {
          "output_type": "execute_result",
          "data": {
            "text/plain": [
              "[32, 110, 1400, 1498, 476]"
            ]
          },
          "metadata": {
            "tags": []
          },
          "execution_count": 16
        }
      ]
    },
    {
      "metadata": {
        "id": "0FQiZbX3wFvf",
        "colab_type": "code",
        "colab": {}
      },
      "cell_type": "code",
      "source": [
        "def minusone(y):\n",
        "  return y-1"
      ],
      "execution_count": 0,
      "outputs": []
    },
    {
      "metadata": {
        "id": "tGwRUarGwVio",
        "colab_type": "code",
        "colab": {
          "base_uri": "https://localhost:8080/",
          "height": 34
        },
        "outputId": "f340b723-6853-42cd-d9cf-9445e4149bf6"
      },
      "cell_type": "code",
      "source": [
        "rdd.map(minusone).take(5)"
      ],
      "execution_count": 18,
      "outputs": [
        {
          "output_type": "execute_result",
          "data": {
            "text/plain": [
              "[15, 54, 699, 748, 237]"
            ]
          },
          "metadata": {
            "tags": []
          },
          "execution_count": 18
        }
      ]
    },
    {
      "metadata": {
        "id": "PCP1XQ-mt1Qx",
        "colab_type": "text"
      },
      "cell_type": "markdown",
      "source": [
        "#### 注意：匿名函式的使用  \n",
        "    rdd.map(doubling) = rdd.map(lambda x: x*2)"
      ]
    },
    {
      "metadata": {
        "id": "F00w0ISRhPck",
        "colab_type": "code",
        "colab": {
          "base_uri": "https://localhost:8080/",
          "height": 35
        },
        "outputId": "afe3e5a6-2d69-4dc4-9a86-8a7ca39d6264"
      },
      "cell_type": "code",
      "source": [
        "rdd.map(lambda x: x-1).take(5)"
      ],
      "execution_count": 20,
      "outputs": [
        {
          "output_type": "execute_result",
          "data": {
            "text/plain": [
              "[15, 54, 699, 748, 237]"
            ]
          },
          "metadata": {
            "tags": []
          },
          "execution_count": 20
        }
      ]
    },
    {
      "metadata": {
        "id": "paFPu3J9yUng",
        "colab_type": "code",
        "colab": {
          "base_uri": "https://localhost:8080/",
          "height": 35
        },
        "outputId": "ac0bb5de-3551-4eda-ba32-b1700016f18b"
      },
      "cell_type": "code",
      "source": [
        "rdd.map(lambda yy:0).take(2)"
      ],
      "execution_count": 21,
      "outputs": [
        {
          "output_type": "execute_result",
          "data": {
            "text/plain": [
              "[0, 0]"
            ]
          },
          "metadata": {
            "tags": []
          },
          "execution_count": 21
        }
      ]
    },
    {
      "metadata": {
        "id": "4Anc1mSLzEmp",
        "colab_type": "code",
        "colab": {
          "base_uri": "https://localhost:8080/",
          "height": 35
        },
        "outputId": "33253c38-7c90-48eb-b954-f4ef53c224f1"
      },
      "cell_type": "code",
      "source": [
        "rdd.map(lambda x: x-1).map(lambda x:x-2).map(lambda x:x-3).take(2)"
      ],
      "execution_count": 23,
      "outputs": [
        {
          "output_type": "execute_result",
          "data": {
            "text/plain": [
              "[10, 49]"
            ]
          },
          "metadata": {
            "tags": []
          },
          "execution_count": 23
        }
      ]
    },
    {
      "metadata": {
        "id": "iJeJB9tNt1Qx",
        "colab_type": "code",
        "colab": {
          "base_uri": "https://localhost:8080/",
          "height": 34
        },
        "outputId": "188aa4cb-7018-4bfb-e47c-297cd93af3c3"
      },
      "cell_type": "code",
      "source": [
        ""
      ],
      "execution_count": 18,
      "outputs": [
        {
          "output_type": "execute_result",
          "data": {
            "text/plain": [
              "464176"
            ]
          },
          "metadata": {
            "tags": []
          },
          "execution_count": 18
        }
      ]
    },
    {
      "metadata": {
        "id": "3rfUg7nrt1Q0",
        "colab_type": "text"
      },
      "cell_type": "markdown",
      "source": [
        "#### 練習：使用map()，將所有數字開平方根 \n",
        "    import math\n",
        "    print math.sqrt(5)"
      ]
    },
    {
      "metadata": {
        "id": "injnEU2Lt1Q1",
        "colab_type": "code",
        "colab": {
          "base_uri": "https://localhost:8080/",
          "height": 34
        },
        "outputId": "7123cbd9-c094-4e4b-fa75-7eab1e8b8ea9"
      },
      "cell_type": "code",
      "source": [
        "import math\n",
        "rdd.map(lambda x: math.sqrt(x)).take(2)"
      ],
      "execution_count": 19,
      "outputs": [
        {
          "output_type": "execute_result",
          "data": {
            "text/plain": [
              "[20.83266665599966, 19.467922333931785]"
            ]
          },
          "metadata": {
            "tags": []
          },
          "execution_count": 19
        }
      ]
    },
    {
      "metadata": {
        "id": "n7PtJhL1t1Q4",
        "colab_type": "text"
      },
      "cell_type": "markdown",
      "source": [
        "#### 匿名函式的差異"
      ]
    },
    {
      "metadata": {
        "id": "LTFiSaMdt1Q5",
        "colab_type": "code",
        "colab": {}
      },
      "cell_type": "code",
      "source": [
        "import math\n",
        "def sqrt(x):\n",
        "    return math.sqrt(x)"
      ],
      "execution_count": 0,
      "outputs": []
    },
    {
      "metadata": {
        "id": "2Cz3ZPi1iL06",
        "colab_type": "code",
        "colab": {
          "base_uri": "https://localhost:8080/",
          "height": 35
        },
        "outputId": "04f4c589-ee67-42be-810e-1802499ce766"
      },
      "cell_type": "code",
      "source": [
        "rdd.map(lambda y: math.sqrt(y)).take(2)"
      ],
      "execution_count": 20,
      "outputs": [
        {
          "output_type": "execute_result",
          "data": {
            "text/plain": [
              "[7.211102550927978, 26.814175355583846]"
            ]
          },
          "metadata": {
            "tags": []
          },
          "execution_count": 20
        }
      ]
    },
    {
      "metadata": {
        "id": "zCnE4mS_iJ1m",
        "colab_type": "text"
      },
      "cell_type": "markdown",
      "source": [
        ""
      ]
    },
    {
      "metadata": {
        "id": "A75twst-t1Q7",
        "colab_type": "code",
        "colab": {
          "base_uri": "https://localhost:8080/",
          "height": 35
        },
        "outputId": "e9168d29-4409-421e-f3e8-e822c308a514"
      },
      "cell_type": "code",
      "source": [
        "rdd.map(sqrt).take(2)"
      ],
      "execution_count": 23,
      "outputs": [
        {
          "output_type": "execute_result",
          "data": {
            "text/plain": [
              "[7.211102550927978, 26.814175355583846]"
            ]
          },
          "metadata": {
            "tags": []
          },
          "execution_count": 23
        }
      ]
    },
    {
      "metadata": {
        "id": "olf5dYNO1JP8",
        "colab_type": "text"
      },
      "cell_type": "markdown",
      "source": [
        "# Transformation Operators: map(), filter(), sample(), groupBy(), etc \n",
        "## (完整Transformation Operator請參考下列網址) http://spark.apache.org/docs/2.1.0/api/python/pyspark.html#pyspark.RDD "
      ]
    },
    {
      "metadata": {
        "id": "m-dnb6Vb-RnK",
        "colab_type": "text"
      },
      "cell_type": "markdown",
      "source": [
        "rdd資料中有多少筆?"
      ]
    },
    {
      "metadata": {
        "id": "qBhcOOPJ9sUa",
        "colab_type": "code",
        "colab": {}
      },
      "cell_type": "code",
      "source": [
        "rdd.map(lambda x:1).reduce(lambda x,y:x+y) "
      ],
      "execution_count": 0,
      "outputs": []
    },
    {
      "metadata": {
        "id": "952iKzm8-QqL",
        "colab_type": "code",
        "colab": {}
      },
      "cell_type": "code",
      "source": [
        "rdd.count()"
      ],
      "execution_count": 0,
      "outputs": []
    },
    {
      "metadata": {
        "id": "HMYWs-X-1Usl",
        "colab_type": "code",
        "colab": {}
      },
      "cell_type": "code",
      "source": [
        "rdd.map(lambda x: x if x%2==0 else 0).reduce(lambda x,y:x+y)"
      ],
      "execution_count": 0,
      "outputs": []
    },
    {
      "metadata": {
        "id": "elsAvKXNt1Q-",
        "colab_type": "text"
      },
      "cell_type": "markdown",
      "source": [
        "#### Transformation Operator 使用filter()，將所有偶數留下，奇數刪除。"
      ]
    },
    {
      "metadata": {
        "id": "raH2ldfBt1Q-",
        "colab_type": "code",
        "colab": {
          "base_uri": "https://localhost:8080/",
          "height": 35
        },
        "outputId": "bb4b43bb-786d-46da-85ba-87b089859b84"
      },
      "cell_type": "code",
      "source": [
        "rdd.filter(lambda x: x%2==0).reduce(lambda x,y:x+y)"
      ],
      "execution_count": 30,
      "outputs": [
        {
          "output_type": "execute_result",
          "data": {
            "text/plain": [
              "504"
            ]
          },
          "metadata": {
            "tags": []
          },
          "execution_count": 30
        }
      ]
    },
    {
      "metadata": {
        "id": "uTLr4oJEt1RB",
        "colab_type": "text"
      },
      "cell_type": "markdown",
      "source": [
        "#### Transformation Operator 使用sample( ) 抽樣給定比例之RDD子集合"
      ]
    },
    {
      "metadata": {
        "id": "n7U8Q8G-t1RB",
        "colab_type": "code",
        "colab": {
          "base_uri": "https://localhost:8080/",
          "height": 34
        },
        "outputId": "e3bc7256-df65-4a53-8ae8-ec2400a33748"
      },
      "cell_type": "code",
      "source": [
        "subsetrdd = rdd.sample(False, 0.01)\n",
        "subsetrdd.collect()"
      ],
      "execution_count": 21,
      "outputs": [
        {
          "output_type": "execute_result",
          "data": {
            "text/plain": [
              "[379, 925, 307, 337, 532, 973, 408, 541, 12, 699, 550, 394, 456, 415]"
            ]
          },
          "metadata": {
            "tags": []
          },
          "execution_count": 21
        }
      ]
    },
    {
      "metadata": {
        "id": "8jpIFRx3t1RE",
        "colab_type": "text"
      },
      "cell_type": "markdown",
      "source": [
        "#### Transformation Operator: 使用 groupBy( ) 將資料分組"
      ]
    },
    {
      "metadata": {
        "id": "jffxeQevt1RE",
        "colab_type": "code",
        "colab": {
          "base_uri": "https://localhost:8080/",
          "height": 72
        },
        "outputId": "614bedde-dd5e-4973-8942-dbb103289dc8"
      },
      "cell_type": "code",
      "source": [
        "result = subsetrdd.groupBy(lambda x: x%2==0).collect()\n",
        "print result\n",
        "print [(x, list(y)) for (x, y) in result]"
      ],
      "execution_count": 23,
      "outputs": [
        {
          "output_type": "stream",
          "text": [
            "[(False, <pyspark.resultiterable.ResultIterable object at 0x7f4286a82350>), (True, <pyspark.resultiterable.ResultIterable object at 0x7f4286a82f50>)]\n",
            "[(False, [379, 925, 307, 337, 973, 541, 699, 415]), (True, [532, 408, 12, 550, 394, 456])]\n"
          ],
          "name": "stdout"
        }
      ]
    },
    {
      "metadata": {
        "id": "fmcD3Rb41HDj",
        "colab_type": "code",
        "colab": {
          "base_uri": "https://localhost:8080/",
          "height": 35
        },
        "outputId": "f2f71b13-989e-436e-f126-3befbf20a871"
      },
      "cell_type": "code",
      "source": [
        ""
      ],
      "execution_count": 28,
      "outputs": [
        {
          "output_type": "execute_result",
          "data": {
            "text/plain": [
              "[1, 0, 1, 0, 1]"
            ]
          },
          "metadata": {
            "tags": []
          },
          "execution_count": 28
        }
      ]
    },
    {
      "metadata": {
        "id": "dhVPws5qt1RG",
        "colab_type": "text"
      },
      "cell_type": "markdown",
      "source": [
        "#### Transformation Operator 使用map ( ) 產生 key value pair"
      ]
    },
    {
      "metadata": {
        "id": "-eo0RYkqt1RH",
        "colab_type": "code",
        "colab": {}
      },
      "cell_type": "code",
      "source": [
        "keyValueRdd = rdd.map(lambda x: ('even', x) if x%2==0 else ('odd',x))\n"
      ],
      "execution_count": 0,
      "outputs": []
    },
    {
      "metadata": {
        "id": "v7s_mWe6_-ab",
        "colab_type": "code",
        "colab": {
          "base_uri": "https://localhost:8080/",
          "height": 34
        },
        "outputId": "5ad02ffd-fefd-49db-f404-074e7411b677"
      },
      "cell_type": "code",
      "source": [
        "rdd.map(lambda x: ('even', x) if x%2==0 else ('odd',x))\\\n",
        "   .reduceByKey(lambda x,y: x+y)\\\n",
        "   .take(2)"
      ],
      "execution_count": 30,
      "outputs": [
        {
          "output_type": "execute_result",
          "data": {
            "text/plain": [
              "[('even', 252194), ('odd', 243733)]"
            ]
          },
          "metadata": {
            "tags": []
          },
          "execution_count": 30
        }
      ]
    },
    {
      "metadata": {
        "id": "KjpBTvuY6kJr",
        "colab_type": "code",
        "colab": {}
      },
      "cell_type": "code",
      "source": [
        "def evennumber(x):\n",
        "  if x%2==0:\n",
        "    return x\n",
        "  else:\n",
        "    return 0"
      ],
      "execution_count": 0,
      "outputs": []
    },
    {
      "metadata": {
        "id": "WP-RPBA36wYD",
        "colab_type": "code",
        "colab": {
          "base_uri": "https://localhost:8080/",
          "height": 34
        },
        "outputId": "36ddaff7-d3b6-4094-f38d-48cd9c3f53ef"
      },
      "cell_type": "code",
      "source": [
        "evennumber(101)"
      ],
      "execution_count": 27,
      "outputs": [
        {
          "output_type": "execute_result",
          "data": {
            "text/plain": [
              "0"
            ]
          },
          "metadata": {
            "tags": []
          },
          "execution_count": 27
        }
      ]
    },
    {
      "metadata": {
        "id": "w5hM0Gow7WOl",
        "colab_type": "code",
        "colab": {}
      },
      "cell_type": "code",
      "source": [
        "rdd.reduce(lambda x,y: x*x+y*y)"
      ],
      "execution_count": 0,
      "outputs": []
    },
    {
      "metadata": {
        "id": "TBWfbG8S60vF",
        "colab_type": "code",
        "colab": {
          "base_uri": "https://localhost:8080/",
          "height": 34
        },
        "outputId": "94280e76-1854-4fd5-88e5-11374c4f6562"
      },
      "cell_type": "code",
      "source": [
        "rdd.map(evennumber).reduce(lambda x,y:x+y)"
      ],
      "execution_count": 28,
      "outputs": [
        {
          "output_type": "execute_result",
          "data": {
            "text/plain": [
              "252194"
            ]
          },
          "metadata": {
            "tags": []
          },
          "execution_count": 28
        }
      ]
    },
    {
      "metadata": {
        "id": "ipn1B9MJ3xND",
        "colab_type": "code",
        "colab": {
          "base_uri": "https://localhost:8080/",
          "height": 34
        },
        "outputId": "0c77ec89-3f74-4381-d366-a508c3a4cfeb"
      },
      "cell_type": "code",
      "source": [
        "rdd.map(lambda x: x if x%2==0 else 0).reduce(lambda x,y:x+y)\n"
      ],
      "execution_count": 24,
      "outputs": [
        {
          "output_type": "execute_result",
          "data": {
            "text/plain": [
              "252194"
            ]
          },
          "metadata": {
            "tags": []
          },
          "execution_count": 24
        }
      ]
    },
    {
      "metadata": {
        "id": "ergjRAqbt1RI",
        "colab_type": "text"
      },
      "cell_type": "markdown",
      "source": [
        "#### Transformation Operator: 使用 groupbyKey ( ) 根據key將資料分組"
      ]
    },
    {
      "metadata": {
        "id": "0lU_2LrIt1RJ",
        "colab_type": "code",
        "colab": {
          "base_uri": "https://localhost:8080/",
          "height": 74
        },
        "outputId": "a41529e2-7ce3-4a2d-fd06-a06c4c4a848d"
      },
      "cell_type": "code",
      "source": [
        "\n",
        "keyValueRdd = rdd.map(lambda x: ('even', x) if x%2==0 else ('odd',x))\n",
        "\n",
        "for x in keyValueRdd.groupByKey().collect():\n",
        "    print x[0], list(x[1])"
      ],
      "execution_count": 29,
      "outputs": [
        {
          "output_type": "stream",
          "text": [
            "even [386, 886, 606, 212, 374, 434, 464, 226, 528, 212, 220, 868, 730, 742, 506, 784, 834, 284, 620, 364, 652, 134, 482, 426, 92, 492, 180, 842, 894, 246, 970, 792, 150, 780, 10, 194, 44, 958, 588, 576, 878, 152, 150, 42, 412, 986, 798, 960, 950, 388, 550, 292, 738, 440, 552, 314, 0, 678, 200, 680, 528, 582, 774, 528, 22, 986, 88, 754, 294, 888, 30, 986, 496, 138, 724, 22, 242, 630, 120, 416, 6, 712, 756, 60, 670, 984, 944, 344, 674, 178, 650, 118, 700, 880, 154, 204, 860, 706, 564, 14, 226, 788, 664, 934, 110, 954, 114, 572, 760, 566, 402, 430, 782, 750, 416, 746, 304, 720, 802, 140, 726, 338, 834, 34, 516, 990, 348, 870, 970, 90, 452, 82, 60, 498, 710, 108, 74, 112, 6, 108, 176, 632, 498, 704, 756, 482, 344, 626, 744, 646, 864, 918, 664, 442, 224, 54, 850, 814, 672, 634, 768, 456, 636, 278, 234, 346, 710, 594, 566, 386, 352, 232, 600, 430, 390, 392, 600, 194, 636, 838, 960, 846, 214, 536, 562, 962, 700, 646, 390, 814, 198, 640, 330, 640, 60, 662, 388, 978, 108, 688, 918, 404, 574, 176, 334, 742, 104, 418, 974, 378, 660, 170, 992, 254, 414, 820, 38, 796, 858, 18, 876, 538, 84, 776, 772, 536, 364, 678, 638, 46, 948, 670, 768, 816, 476, 564, 312, 60, 214, 918, 564, 712, 670, 430, 396, 386, 282, 922, 618, 384, 88, 50, 992, 136, 472, 636, 962, 596, 958, 666, 892, 134, 546, 808, 634, 466, 448, 558, 774, 362, 676, 166, 582, 148, 374, 230, 804, 628, 958, 400, 134, 510, 22, 574, 826, 966, 566, 236, 302, 844, 262, 896, 734, 308, 228, 628, 618, 714, 320, 574, 602, 754, 734, 554, 344, 224, 578, 82, 836, 360, 152, 420, 890, 988, 742, 36, 86, 694, 270, 990, 898, 126, 282, 494, 94, 394, 200, 790, 774, 738, 826, 798, 684, 934, 894, 724, 962, 712, 818, 8, 472, 592, 428, 800, 766, 452, 158, 362, 284, 558, 264, 298, 730, 92, 388, 26, 710, 92, 410, 108, 164, 986, 352, 452, 458, 348, 916, 974, 960, 900, 556, 168, 236, 746, 560, 6, 644, 938, 476, 494, 854, 134, 880, 822, 700, 42, 984, 136, 964, 270, 654, 746, 94, 804, 180, 554, 476, 924, 686, 848, 578, 528, 920, 572, 760, 460, 88, 724, 834, 890, 148, 812, 924, 244, 462, 102, 890, 158, 524, 446, 364, 328, 252, 754, 52, 564, 878, 184, 152, 78, 736, 478, 824, 68, 374, 996, 728, 928, 486, 236, 750, 748, 242, 142, 30, 854, 374, 474, 874, 458, 206, 684, 298, 982, 946, 792, 468, 110, 166, 556, 612, 296, 720, 782, 456, 630, 302, 302, 534, 408, 934, 768, 68, 384, 160, 260, 772, 216, 814, 202, 176, 320, 826, 898, 764, 582, 638, 796, 438, 652, 68, 482, 736, 356, 252, 260, 4, 978, 946, 152, 214, 712, 290, 280]\n",
            "odd [335, 659, 35, 619, 427, 505, 65, 483, 275, 249, 627, 453, 85, 533, 665, 3, 31, 239, 397, 607, 133, 681, 49, 917, 79, 315, 879, 349, 33, 383, 419, 113, 391, 307, 499, 645, 17, 221, 409, 593, 871, 787, 929, 587, 579, 585, 139, 257, 637, 251, 679, 447, 609, 301, 513, 679, 469, 387, 613, 193, 461, 693, 325, 839, 37, 713, 131, 841, 349, 23, 219, 339, 509, 69, 43, 977, 943, 253, 247, 691, 551, 423, 721, 167, 59, 65, 5, 81, 99, 421, 185, 555, 43, 855, 395, 999, 145, 755, 207, 373, 903, 299, 641, 377, 75, 527, 633, 865, 453, 67, 483, 779, 969, 161, 135, 759, 225, 279, 43, 85, 11, 567, 987, 35, 377, 371, 975, 771, 311, 605, 857, 153, 665, 629, 141, 371, 317, 77, 11, 77, 411, 783, 147, 829, 99, 205, 777, 105, 901, 153, 127, 47, 241, 487, 847, 87, 785, 549, 755, 319, 313, 189, 745, 337, 517, 153, 671, 439, 107, 819, 399, 715, 567, 323, 583, 439, 533, 31, 927, 451, 799, 785, 583, 557, 851, 419, 123, 353, 785, 191, 15, 89, 677, 589, 71, 347, 633, 919, 33, 343, 901, 425, 369, 555, 875, 241, 323, 201, 365, 175, 481, 539, 1, 789, 873, 803, 495, 739, 785, 815, 1, 109, 595, 451, 651, 69, 13, 679, 629, 811, 481, 415, 961, 935, 619, 141, 265, 149, 233, 465, 619, 813, 301, 569, 39, 241, 763, 479, 1, 443, 951, 955, 671, 839, 957, 115, 919, 515, 813, 527, 95, 819, 731, 697, 305, 73, 157, 411, 427, 629, 915, 23, 387, 29, 231, 43, 891, 33, 839, 69, 287, 759, 113, 173, 905, 101, 741, 31, 571, 829, 813, 993, 123, 177, 529, 891, 669, 137, 25, 873, 1, 959, 465, 341, 729, 103, 965, 561, 491, 833, 563, 887, 449, 99, 295, 367, 817, 243, 161, 147, 687, 857, 63, 405, 851, 261, 255, 635, 51, 183, 695, 281, 299, 721, 137, 463, 433, 213, 525, 761, 119, 407, 347, 307, 73, 15, 169, 721, 107, 239, 235, 625, 819, 161, 277, 701, 853, 889, 7, 879, 631, 663, 325, 421, 561, 609, 359, 33, 163, 363, 37, 207, 771, 539, 735, 343, 691, 893, 387, 455, 53, 337, 543, 919, 535, 885, 641, 691, 701, 115, 37, 695, 873, 901, 561, 269, 963, 35, 185, 681, 731, 55, 831, 785, 767, 845, 833, 195, 391, 737, 377, 71, 669, 549, 335, 13, 483, 627, 707, 633, 479, 587, 527, 293, 349, 95, 239, 961, 299, 43, 221, 831, 777, 965, 447, 501, 807, 415, 779, 681, 207, 865, 631, 613, 737, 757, 809, 487, 415, 721, 329, 299, 643, 477, 977, 543, 561, 545, 189, 551, 665, 697, 269, 11, 553, 269, 573, 447, 659, 385, 423, 521, 69, 851, 199, 619, 469, 117, 639, 387, 929, 839, 587, 497, 711, 77, 191, 987, 425, 441, 871, 171, 105, 923, 791, 677]\n"
          ],
          "name": "stdout"
        }
      ]
    },
    {
      "metadata": {
        "id": "2cF4eO2ht1RL",
        "colab_type": "text"
      },
      "cell_type": "markdown",
      "source": [
        "\n",
        "###練習 計算奇數加總值與偶數加總值\n",
        "#### groupbyKey(), reduceByKey()"
      ]
    },
    {
      "metadata": {
        "id": "JvI54vHQt1RL",
        "colab_type": "code",
        "colab": {
          "base_uri": "https://localhost:8080/",
          "height": 34
        },
        "outputId": "4ab6d42f-2f68-4a0b-ec58-95846be98ef4"
      },
      "cell_type": "code",
      "source": [
        "keyValueRdd.reduceByKey(lambda x,y: x+y).take(2)"
      ],
      "execution_count": 26,
      "outputs": [
        {
          "output_type": "execute_result",
          "data": {
            "text/plain": [
              "[('even', 240850), ('odd', 229326)]"
            ]
          },
          "metadata": {
            "tags": []
          },
          "execution_count": 26
        }
      ]
    },
    {
      "metadata": {
        "id": "2zt-atriGcY1",
        "colab_type": "code",
        "colab": {
          "base_uri": "https://localhost:8080/",
          "height": 35
        },
        "outputId": "559557cc-d178-41b3-d25f-582ae6632927"
      },
      "cell_type": "code",
      "source": [
        "rdd.map(lambda x: (x,1)).reduceByKey(lambda a,b:a+b).take(5)"
      ],
      "execution_count": 29,
      "outputs": [
        {
          "output_type": "execute_result",
          "data": {
            "text/plain": [
              "[(0, 1), (512, 1), (514, 1), (4, 1), (518, 3)]"
            ]
          },
          "metadata": {
            "tags": []
          },
          "execution_count": 29
        }
      ]
    },
    {
      "metadata": {
        "id": "GeI84meUt1Re",
        "colab_type": "text"
      },
      "cell_type": "markdown",
      "source": [
        "___\n",
        "___\n",
        "___\n",
        "\n",
        "\n",
        "# RDD Action Action Operation\n",
        "#### 使用reduce()，計算所有數之加總值。"
      ]
    },
    {
      "metadata": {
        "id": "YML9Ihvet1Re",
        "colab_type": "code",
        "colab": {
          "base_uri": "https://localhost:8080/",
          "height": 35
        },
        "outputId": "c5b19b1c-6787-46c4-cf83-655d78323567"
      },
      "cell_type": "code",
      "source": [
        "rdd.reduce(lambda x,y: x+y )"
      ],
      "execution_count": 24,
      "outputs": [
        {
          "output_type": "execute_result",
          "data": {
            "text/plain": [
              "508189"
            ]
          },
          "metadata": {
            "tags": []
          },
          "execution_count": 24
        }
      ]
    },
    {
      "metadata": {
        "id": "K7VhWlCUfIrn",
        "colab_type": "code",
        "colab": {}
      },
      "cell_type": "code",
      "source": [
        "rdd.reduce(lambda x,y: x*x+y*y)"
      ],
      "execution_count": 0,
      "outputs": []
    },
    {
      "metadata": {
        "id": "GYMr5QHb0Isc",
        "colab_type": "code",
        "colab": {
          "base_uri": "https://localhost:8080/",
          "height": 35
        },
        "outputId": "2146c730-a543-423c-da05-7126d803a878"
      },
      "cell_type": "code",
      "source": [
        "rdd.map(lambda x:1).reduce(lambda a,b:a+b)"
      ],
      "execution_count": 25,
      "outputs": [
        {
          "output_type": "execute_result",
          "data": {
            "text/plain": [
              "1000"
            ]
          },
          "metadata": {
            "tags": []
          },
          "execution_count": 25
        }
      ]
    },
    {
      "metadata": {
        "id": "vjiNSGoD0p1r",
        "colab_type": "code",
        "colab": {
          "base_uri": "https://localhost:8080/",
          "height": 35
        },
        "outputId": "d850579d-80b7-41fc-b8e2-6c4912c5653e"
      },
      "cell_type": "code",
      "source": [
        ""
      ],
      "execution_count": 27,
      "outputs": [
        {
          "output_type": "execute_result",
          "data": {
            "text/plain": [
              "[1, 1, 1, 1, 1]"
            ]
          },
          "metadata": {
            "tags": []
          },
          "execution_count": 27
        }
      ]
    },
    {
      "metadata": {
        "id": "OQWCsi3Nt1Rq",
        "colab_type": "text"
      },
      "cell_type": "markdown",
      "source": [
        "______\n",
        "\n",
        "## 觀念\n",
        "### 練習：計算所有數字平方和。"
      ]
    },
    {
      "metadata": {
        "id": "4cFvuXYX2iA7",
        "colab_type": "code",
        "colab": {
          "base_uri": "https://localhost:8080/",
          "height": 34
        },
        "outputId": "7f81a8a5-5e95-4d3d-cc51-1c650b0ad31b"
      },
      "cell_type": "code",
      "source": [
        "rdd.map(lambda x: x*x).reduce(lambda x,y: x+y)"
      ],
      "execution_count": 28,
      "outputs": [
        {
          "output_type": "execute_result",
          "data": {
            "text/plain": [
              "306397002"
            ]
          },
          "metadata": {
            "tags": []
          },
          "execution_count": 28
        }
      ]
    },
    {
      "metadata": {
        "id": "6rJDXbsZt1Rr",
        "colab_type": "text"
      },
      "cell_type": "markdown",
      "source": [
        "## 練習：使用map(), reduceByKey()，計算所有數字出現頻率。"
      ]
    },
    {
      "metadata": {
        "id": "z13lFWqgt1Rr",
        "colab_type": "code",
        "colab": {
          "base_uri": "https://localhost:8080/",
          "height": 34
        },
        "outputId": "405f2f61-d52e-44fe-cf27-be783a282d37"
      },
      "cell_type": "code",
      "source": [
        "rdd.map(lambda x: (x,1)).reduceByKey(lambda a,b:a+b)"
      ],
      "execution_count": 29,
      "outputs": [
        {
          "output_type": "execute_result",
          "data": {
            "text/plain": [
              "PythonRDD[37] at RDD at PythonRDD.scala:48"
            ]
          },
          "metadata": {
            "tags": []
          },
          "execution_count": 29
        }
      ]
    },
    {
      "metadata": {
        "id": "0N__bRU5t1Rv",
        "colab_type": "text"
      },
      "cell_type": "markdown",
      "source": [
        "_____\n",
        "_____\n",
        "_____\n",
        "\n",
        "# WordCount"
      ]
    },
    {
      "metadata": {
        "id": "R_cMDKMet1Rx",
        "colab_type": "code",
        "colab": {}
      },
      "cell_type": "code",
      "source": [
        "import urllib\n",
        "#f=urllib.urlretrieve(\"https://www.ccel.org/ccel/bible/kjv.txt\",\"bible\")\n",
        "f=urllib.urlretrieve(\"https://www.dropbox.com/s/28ljfwb1aeuyi37/speech.txt?dl=1\",\"speech\")\n"
      ],
      "execution_count": 0,
      "outputs": []
    },
    {
      "metadata": {
        "id": "xsHULr-xt1Ry",
        "colab_type": "code",
        "colab": {}
      },
      "cell_type": "code",
      "source": [
        "data_file = \"./speech\""
      ],
      "execution_count": 0,
      "outputs": []
    },
    {
      "metadata": {
        "id": "qiBihzxpakdB",
        "colab_type": "code",
        "colab": {}
      },
      "cell_type": "code",
      "source": [
        ""
      ],
      "execution_count": 0,
      "outputs": []
    },
    {
      "metadata": {
        "id": "wmkX3FKlt1R0",
        "colab_type": "code",
        "colab": {}
      },
      "cell_type": "code",
      "source": [
        "text_file = sc.textFile(data_file)"
      ],
      "execution_count": 0,
      "outputs": []
    },
    {
      "metadata": {
        "id": "SzhZOO8B54_d",
        "colab_type": "code",
        "colab": {
          "base_uri": "https://localhost:8080/",
          "height": 35
        },
        "outputId": "6a538282-9d53-448f-f454-0c1d63ec3af2"
      },
      "cell_type": "code",
      "source": [
        "print(type(text_file))"
      ],
      "execution_count": 48,
      "outputs": [
        {
          "output_type": "stream",
          "text": [
            "<class 'pyspark.rdd.RDD'>\n"
          ],
          "name": "stdout"
        }
      ]
    },
    {
      "metadata": {
        "id": "Ucnc2gbbdKuG",
        "colab_type": "code",
        "colab": {
          "base_uri": "https://localhost:8080/",
          "height": 35
        },
        "outputId": "3774bd00-a35e-4b89-cb9b-054140c5b198"
      },
      "cell_type": "code",
      "source": [
        "text_file.map(lambda line: line.split(\" \")).count()"
      ],
      "execution_count": 50,
      "outputs": [
        {
          "output_type": "execute_result",
          "data": {
            "text/plain": [
              "89"
            ]
          },
          "metadata": {
            "tags": []
          },
          "execution_count": 50
        }
      ]
    },
    {
      "metadata": {
        "id": "JlZxjR_sda8D",
        "colab_type": "code",
        "colab": {
          "base_uri": "https://localhost:8080/",
          "height": 35
        },
        "outputId": "cc2b796a-0aa3-430d-9986-18d119a12663"
      },
      "cell_type": "code",
      "source": [
        "text_file.flatMap(lambda line: line.split(\" \")).count()"
      ],
      "execution_count": 51,
      "outputs": [
        {
          "output_type": "execute_result",
          "data": {
            "text/plain": [
              "3776"
            ]
          },
          "metadata": {
            "tags": []
          },
          "execution_count": 51
        }
      ]
    },
    {
      "metadata": {
        "id": "NAIpNQIFt1R2",
        "colab_type": "code",
        "colab": {
          "base_uri": "https://localhost:8080/",
          "height": 199
        },
        "outputId": "86248425-793e-4b9a-e681-a6fc66b95e61"
      },
      "cell_type": "code",
      "source": [
        "wordcountsRDD = text_file.flatMap(lambda line: line.split(\" \")) \\\n",
        "             .map(lambda word: (word, 1)) \\\n",
        "             .reduceByKey(lambda a, b: a + b)\n",
        "wordcountsRDD.take(10)\n"
      ],
      "execution_count": 52,
      "outputs": [
        {
          "output_type": "execute_result",
          "data": {
            "text/plain": [
              "[(u'', 228),\n",
              " (u'\\u8981', 25),\n",
              " (u'\\u627e\\u51fa', 1),\n",
              " (u'\\u65c5\\u7a0b', 1),\n",
              " (u'\\u8b1d\\u8b1d', 2),\n",
              " (u'\\u5341\\u516d\\u65e5', 1),\n",
              " (u'\\u7b2c\\u4e8c', 2),\n",
              " (u'\\u4ee3\\u5de5', 1),\n",
              " (u'\\u7b2c\\u4e09\\u4ef6', 1),\n",
              " (u'\\u6b4c\\u66f2', 1)]"
            ]
          },
          "metadata": {
            "tags": []
          },
          "execution_count": 52
        }
      ]
    },
    {
      "metadata": {
        "id": "tdcUiiBL58sD",
        "colab_type": "code",
        "colab": {
          "base_uri": "https://localhost:8080/",
          "height": 199
        },
        "outputId": "03330777-5fb2-45d1-edcb-1c8201f814bc"
      },
      "cell_type": "code",
      "source": [
        "for i in wordcountsRDD.take(10):\n",
        "  print i[0], i[1]"
      ],
      "execution_count": 53,
      "outputs": [
        {
          "output_type": "stream",
          "text": [
            " 228\n",
            "要 25\n",
            "找出 1\n",
            "旅程 1\n",
            "謝謝 2\n",
            "十六日 1\n",
            "第二 2\n",
            "代工 1\n",
            "第三件 1\n",
            "歌曲 1\n"
          ],
          "name": "stdout"
        }
      ]
    },
    {
      "metadata": {
        "id": "wW3nMPLN6kGw",
        "colab_type": "code",
        "colab": {}
      },
      "cell_type": "code",
      "source": [
        ""
      ],
      "execution_count": 0,
      "outputs": []
    },
    {
      "metadata": {
        "id": "kLRha3Eet1R4",
        "colab_type": "text"
      },
      "cell_type": "markdown",
      "source": [
        "#### 根據字元符號順序做排序"
      ]
    },
    {
      "metadata": {
        "id": "rngFUG_0t1R6",
        "colab_type": "code",
        "colab": {
          "base_uri": "https://localhost:8080/",
          "height": 34
        },
        "outputId": "85fef0c8-5ad2-4b5a-8036-ff8145a5f741"
      },
      "cell_type": "code",
      "source": [
        "text_file = sc.textFile(data_file)\n",
        "counts = text_file.flatMap(lambda line: line.split(\" \")) \\\n",
        "             .map(lambda word: (word, 1)) \\\n",
        "             .reduceByKey(lambda a, b: a + b).sortByKey()\n",
        "counts.take(5)"
      ],
      "execution_count": 41,
      "outputs": [
        {
          "output_type": "execute_result",
          "data": {
            "text/plain": [
              "[(u'', 228), (u'1992', 2), (u'1996', 1), (u'20', 4), (u'2016', 1)]"
            ]
          },
          "metadata": {
            "tags": []
          },
          "execution_count": 41
        }
      ]
    },
    {
      "metadata": {
        "id": "62tc3XbHt1R7",
        "colab_type": "text"
      },
      "cell_type": "markdown",
      "source": [
        "#### 出現頻率做排序"
      ]
    },
    {
      "metadata": {
        "id": "KeUmGmNJt1R8",
        "colab_type": "code",
        "colab": {
          "base_uri": "https://localhost:8080/",
          "height": 381
        },
        "outputId": "9784fce2-1a5a-468a-a18d-2ebe287bfefc"
      },
      "cell_type": "code",
      "source": [
        "text_file = sc.textFile(data_file)\n",
        "\n",
        "counts = text_file.flatMap(lambda line: line.split(\" \")) \\\n",
        "             .map(lambda word: (word, 1)) \\\n",
        "             .reduceByKey(lambda a, b: a + b)\\\n",
        "             .sortBy(lambda x: x[1], ascending=False)\n",
        "\n",
        "s = counts.take(20)\n",
        "\n",
        "for i in s:\n",
        "  print i[0],i[1]"
      ],
      "execution_count": 59,
      "outputs": [
        {
          "output_type": "stream",
          "text": [
            "， 336\n",
            "的 292\n",
            " 228\n",
            "。 159\n",
            "我們 86\n",
            "、 59\n",
            "台灣 39\n",
            "與 37\n",
            "在 33\n",
            "國家 32\n",
            "和 31\n",
            "一個 29\n",
            "是 27\n",
            "新政府 27\n",
            "要 25\n",
            "經濟 25\n",
            "這個 25\n",
            "會 24\n",
            "讓 24\n",
            "也 22\n"
          ],
          "name": "stdout"
        }
      ]
    },
    {
      "metadata": {
        "id": "sQasOGYAt1R_",
        "colab_type": "text"
      },
      "cell_type": "markdown",
      "source": [
        "#### map 與 flatMap的差異"
      ]
    },
    {
      "metadata": {
        "id": "TKZtTRUXt1R_",
        "colab_type": "code",
        "colab": {
          "base_uri": "https://localhost:8080/",
          "height": 526
        },
        "outputId": "6db30991-3974-4b1f-8d36-b1edd90b5677"
      },
      "cell_type": "code",
      "source": [
        "text_file = sc.textFile(data_file)\n",
        "counts = text_file.map(lambda line: line.split(\" \"))\n",
        "counts.take(1)\n"
      ],
      "execution_count": 54,
      "outputs": [
        {
          "output_type": "execute_result",
          "data": {
            "text/plain": [
              "[[u'\\u5404\\u4f4d',\n",
              "  u'\\u53cb\\u90a6',\n",
              "  u'\\u7684',\n",
              "  u'\\u5143\\u9996',\n",
              "  u'\\u8207',\n",
              "  u'\\u8cb4\\u8cd3',\n",
              "  u'\\u3001',\n",
              "  u'\\u5404\\u570b',\n",
              "  u'\\u99d0\\u53f0',\n",
              "  u'\\u4f7f\\u7bc0',\n",
              "  u'\\u53ca',\n",
              "  u'\\u4ee3\\u8868',\n",
              "  u'\\u3001',\n",
              "  u'\\u73fe\\u5834',\n",
              "  u'\\u7684',\n",
              "  u'\\u597d',\n",
              "  u'\\u670b\\u53cb',\n",
              "  u'\\uff0c',\n",
              "  u'\\u5168\\u9ad4',\n",
              "  u'\\u570b\\u4eba',\n",
              "  u'\\u540c\\u80de',\n",
              "  u'\\uff0c',\n",
              "  u'\\u5927\\u5bb6',\n",
              "  u'\\u597d',\n",
              "  u'\\u3002',\n",
              "  u'',\n",
              "  u'',\n",
              "  u'']]"
            ]
          },
          "metadata": {
            "tags": []
          },
          "execution_count": 54
        }
      ]
    },
    {
      "metadata": {
        "id": "tDvjL-8Tt1SC",
        "colab_type": "code",
        "colab": {
          "base_uri": "https://localhost:8080/",
          "height": 35
        },
        "outputId": "4f224b32-1234-4181-a18e-5300dd1fc018"
      },
      "cell_type": "code",
      "source": [
        "text_file = sc.textFile(data_file)\n",
        "counts = text_file.flatMap(lambda line: line.split(\" \"))\n",
        "counts.take(1)"
      ],
      "execution_count": 56,
      "outputs": [
        {
          "output_type": "execute_result",
          "data": {
            "text/plain": [
              "[u'\\u5404\\u4f4d']"
            ]
          },
          "metadata": {
            "tags": []
          },
          "execution_count": 56
        }
      ]
    },
    {
      "metadata": {
        "id": "sKvDFz9rKk94",
        "colab_type": "code",
        "colab": {
          "base_uri": "https://localhost:8080/",
          "height": 35
        },
        "outputId": "a8c33534-f8ac-4ddc-cc21-4eab69493381"
      },
      "cell_type": "code",
      "source": [
        "rdd.map(lambda x: x if x>500 else 0).reduce(lambda x,y:x+y)"
      ],
      "execution_count": 39,
      "outputs": [
        {
          "output_type": "execute_result",
          "data": {
            "text/plain": [
              "366120"
            ]
          },
          "metadata": {
            "tags": []
          },
          "execution_count": 39
        }
      ]
    },
    {
      "metadata": {
        "id": "QVX1K9rvt1SE",
        "colab_type": "text"
      },
      "cell_type": "markdown",
      "source": [
        "\n",
        "____\n",
        "____\n",
        "____\n",
        "# pi-estimation "
      ]
    },
    {
      "metadata": {
        "id": "7qJCgsskt1SE",
        "colab_type": "code",
        "colab": {
          "base_uri": "https://localhost:8080/",
          "height": 35
        },
        "outputId": "ab5a3168-fd98-439e-f6c8-ed750fb31c06"
      },
      "cell_type": "code",
      "source": [
        "import random\n",
        "\n",
        "def sample(p):\n",
        "    x, y = random.random(), random.random()\n",
        "    return 1 if x*x + y*y < 1 else 0\n",
        "\n",
        "count = sc.parallelize(xrange(0, 10000000)).map(sample) \\\n",
        "             .reduce(lambda a, b: a + b)\n",
        "print \"Pi is roughly %f\" % (4.0 * count / 10000000)"
      ],
      "execution_count": 30,
      "outputs": [
        {
          "output_type": "stream",
          "text": [
            "Pi is roughly 3.143342\n"
          ],
          "name": "stdout"
        }
      ]
    },
    {
      "metadata": {
        "id": "OAQNfVent1SF",
        "colab_type": "code",
        "colab": {
          "base_uri": "https://localhost:8080/",
          "height": 35
        },
        "outputId": "963d721a-32a2-4467-8d03-cab9650617f8"
      },
      "cell_type": "code",
      "source": [
        "count = sc.parallelize(xrange(0, 1000000))\\\n",
        "        .map(lambda p: 1 if (random.random()**2 + random.random()**2)<1 else 0) \\\n",
        "        .reduce(lambda a, b: a + b)\n",
        "print \"Pi is roughly %f\" % (4.0 * count / 1000000)"
      ],
      "execution_count": 31,
      "outputs": [
        {
          "output_type": "stream",
          "text": [
            "Pi is roughly 3.146328\n"
          ],
          "name": "stdout"
        }
      ]
    },
    {
      "metadata": {
        "id": "WXI8RPNEt1SH",
        "colab_type": "text"
      },
      "cell_type": "markdown",
      "source": [
        "___\n",
        "___\n",
        "___\n",
        "\n",
        "# Text Search Example"
      ]
    },
    {
      "metadata": {
        "id": "ym_ec0yDt1SI",
        "colab_type": "code",
        "colab": {
          "base_uri": "https://localhost:8080/",
          "height": 369
        },
        "outputId": "21fe5c90-987d-45d4-9fa8-8248c702a40e"
      },
      "cell_type": "code",
      "source": [
        "import urllib\n",
        "f=urllib.urlretrieve(\"https://www.ccel.org/ccel/bible/kjv.txt\",\"bible\")\n",
        "text_file = sc.textFile(data_file)\n",
        "lines = text_file.map(lambda line: line) \n",
        "lines.take(20)"
      ],
      "execution_count": 46,
      "outputs": [
        {
          "output_type": "execute_result",
          "data": {
            "text/plain": [
              "[u'     __________________________________________________________________',\n",
              " u'',\n",
              " u'           Title: The King James Version of the Holy Bible',\n",
              " u'      Creator(s): Anonymous',\n",
              " u'          Rights: Public Domain',\n",
              " u'   CCEL Subjects: All; Bible; Old Testament; New Testament; Apocrypha',\n",
              " u'      LC Call no: BS185',\n",
              " u'     LC Subjects:',\n",
              " u'',\n",
              " u'                  The Bible',\n",
              " u'',\n",
              " u'                  Modern texts and versions',\n",
              " u'',\n",
              " u'                  English',\n",
              " u'     __________________________________________________________________',\n",
              " u'',\n",
              " u'Holy Bible',\n",
              " u'',\n",
              " u'                               King James Version',\n",
              " u'     __________________________________________________________________']"
            ]
          },
          "metadata": {
            "tags": []
          },
          "execution_count": 46
        }
      ]
    },
    {
      "metadata": {
        "id": "W8dnzpSUt1SJ",
        "colab_type": "text"
      },
      "cell_type": "markdown",
      "source": [
        "\n",
        "___\n",
        "___\n",
        "___\n",
        "\n",
        "# Filter Example"
      ]
    },
    {
      "metadata": {
        "id": "aVpHViqwt1SK",
        "colab_type": "code",
        "colab": {
          "base_uri": "https://localhost:8080/",
          "height": 401
        },
        "outputId": "d52e843f-2601-40de-ec7a-79bf906dcf17"
      },
      "cell_type": "code",
      "source": [
        "import urllib\n",
        "urllib.urlretrieve(\"https://www.ccel.org/ccel/bible/kjv.txt\",\"bible\")\n",
        "data_file = \"./bible\"\n",
        "text_file = sc.textFile(data_file)\n",
        "lines = text_file.filter(lambda line: 'and' in line) \n",
        "lines.take(20)"
      ],
      "execution_count": 61,
      "outputs": [
        {
          "output_type": "execute_result",
          "data": {
            "text/plain": [
              "[u'                  Modern texts and versions',\n",
              " u'   Great and manifold were the blessings, most dread Sovereign, which',\n",
              " u\"   England, when first he sent Your Majesty's Royal Person to rule and\",\n",
              " u'   Occindental Star, Queen Elizabeth, of most happy memory, some thick and',\n",
              " u'   palpable clouds of darkness would so have overshadowed this land, that',\n",
              " u'   men should have been in doubt which way they were to walk, and that it',\n",
              " u'   dispelled those supposed and surmised mists, and gave unto all that',\n",
              " u'   beheld the Government established in Your Highness, and Your hopeful',\n",
              " u'   Seed, by an undoubted Title; and this also accompanied with peace and',\n",
              " u'   tranquillity at home and abroad.',\n",
              " u'   only to the time spent in this transitory world, but directeth and',\n",
              " u'   and to continue it in that state wherein the famous Predecessor of Your',\n",
              " u'   Highness did leave it; nay, to go forward with the confidence and',\n",
              " u'   resolution of a man, in maintaining the truth of Christ, and',\n",
              " u'   propagating it far and near is that which hath so bound and firmly knit',\n",
              " u\"   the hearts of all Your Majesty's loyal and religious people unto You,\",\n",
              " u'   with comfort, and they bless You in their hearts, as that sanctified',\n",
              " u'   every day increaseth and taketh strength, when they observe that the',\n",
              " u'   backward, but is more and more kindled, manifesting itself abroad in',\n",
              " u'   healed,) and every day at home, by religious and learned discourse, by']"
            ]
          },
          "metadata": {
            "tags": []
          },
          "execution_count": 61
        }
      ]
    },
    {
      "metadata": {
        "id": "_fErZ1SNt1SO",
        "colab_type": "code",
        "colab": {}
      },
      "cell_type": "code",
      "source": [
        ""
      ],
      "execution_count": 0,
      "outputs": []
    },
    {
      "metadata": {
        "id": "6VL_arA54uEZ",
        "colab_type": "code",
        "colab": {}
      },
      "cell_type": "code",
      "source": [
        "\n"
      ],
      "execution_count": 0,
      "outputs": []
    },
    {
      "metadata": {
        "id": "qtJTOTZ644l-",
        "colab_type": "code",
        "colab": {}
      },
      "cell_type": "code",
      "source": [
        ""
      ],
      "execution_count": 0,
      "outputs": []
    },
    {
      "metadata": {
        "id": "dz1EqZwB459t",
        "colab_type": "code",
        "colab": {}
      },
      "cell_type": "code",
      "source": [
        ""
      ],
      "execution_count": 0,
      "outputs": []
    },
    {
      "metadata": {
        "id": "nAfeeKml5AVL",
        "colab_type": "code",
        "colab": {}
      },
      "cell_type": "code",
      "source": [
        ""
      ],
      "execution_count": 0,
      "outputs": []
    },
    {
      "metadata": {
        "id": "Q9bY61jYJNZN",
        "colab_type": "code",
        "colab": {}
      },
      "cell_type": "code",
      "source": [
        ""
      ],
      "execution_count": 0,
      "outputs": []
    }
  ]
}