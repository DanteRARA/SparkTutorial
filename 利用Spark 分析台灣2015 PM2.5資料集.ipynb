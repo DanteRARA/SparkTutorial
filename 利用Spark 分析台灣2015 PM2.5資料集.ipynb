{
  "nbformat": 4,
  "nbformat_minor": 0,
  "metadata": {
    "colab": {
      "name": "(解答)台灣+PM25+for+Student.ipynb",
      "version": "0.3.2",
      "provenance": [],
      "collapsed_sections": []
    },
    "kernelspec": {
      "display_name": "Python 2 with Spark 2.0",
      "language": "python",
      "name": "python2-spark20"
    }
  },
  "cells": [
    {
      "metadata": {
        "id": "yZX_HQWt68dR",
        "colab_type": "code",
        "colab": {
          "base_uri": "https://localhost:8080/",
          "height": 70
        },
        "outputId": "bf85449a-87ee-4195-d24c-09cfbb8c4892"
      },
      "cell_type": "code",
      "source": [
        "# 環境初始化 (大約三至五分鐘)\n",
        "! wget -O init_env.sh https://www.dropbox.com/s/6bnwn8u2hz19s59/init_env.sh && \\\n",
        "bash init_env.sh"
      ],
      "execution_count": 2,
      "outputs": [
        {
          "output_type": "stream",
          "text": [
            "\n",
            "Redirecting output to ‘wget-log.2’.\n",
            "環境初始化完畢\n"
          ],
          "name": "stdout"
        }
      ]
    },
    {
      "metadata": {
        "id": "ky97pnWo7EBr",
        "colab_type": "code",
        "colab": {}
      },
      "cell_type": "code",
      "source": [
        "import os, sys\n",
        "os.environ['SPARK_HOME'] = \"/usr/local/spark\"\n",
        "os.environ['PYSPARK_PYTHON'] = \"/usr/bin/python\"\n",
        "sys.path.append(\"/usr/local/spark/python/\")\n",
        "sys.path.append(\"/usr/local/spark/python/lib/pyspark.zip\")\n",
        "sys.path.append(\"/usr/local/spark/python/lib/py4j-0.10.4-src.zip\")"
      ],
      "execution_count": 0,
      "outputs": []
    },
    {
      "metadata": {
        "id": "I1kaE7kK7PRF",
        "colab_type": "code",
        "colab": {}
      },
      "cell_type": "code",
      "source": [
        "from pyspark import SparkContext\n",
        "from pyspark import SparkConf\n",
        "sc =SparkContext()"
      ],
      "execution_count": 0,
      "outputs": []
    },
    {
      "metadata": {
        "id": "ltQpoNZY6bv6",
        "colab_type": "text"
      },
      "cell_type": "markdown",
      "source": [
        "# 利用Spark 分析台灣2015 PM2.5資料集"
      ]
    },
    {
      "metadata": {
        "id": "zbWZ0dIo6bv7",
        "colab_type": "text"
      },
      "cell_type": "markdown",
      "source": [
        "<a id=\"load_data\"></a>\n",
        "## 上傳台灣2015一整年空氣監測資料 "
      ]
    },
    {
      "metadata": {
        "id": "C1qgJDsb6bv8",
        "colab_type": "text"
      },
      "cell_type": "markdown",
      "source": [
        "### 步驟1: 將2015空氣監控資料，上傳至colab"
      ]
    },
    {
      "metadata": {
        "id": "SVXc7N-P6bv8",
        "colab_type": "code",
        "colab": {}
      },
      "cell_type": "code",
      "source": [
        "import urllib\n",
        "f=urllib.urlretrieve(\"https://www.dropbox.com/s/zkn3ba7pitv83el/pm2.5Taiwan.csv?dl=1\",\"pm25.csv\")\n",
        "data_file = \"./pm25.csv\""
      ],
      "execution_count": 0,
      "outputs": []
    },
    {
      "metadata": {
        "id": "Y8u7Bxqi6bwF",
        "colab_type": "code",
        "colab": {}
      },
      "cell_type": "code",
      "source": [
        "weather = sc.textFile(\"./pm25.csv\")"
      ],
      "execution_count": 0,
      "outputs": []
    },
    {
      "metadata": {
        "id": "aMVBdYNO6bwH",
        "colab_type": "text"
      },
      "cell_type": "markdown",
      "source": [
        "### 步驟2: 試試看是否成功上傳  (使用count( ), first( ), collect( ), take( ) )"
      ]
    },
    {
      "metadata": {
        "id": "QeiPKyGe6bwH",
        "colab_type": "code",
        "colab": {
          "base_uri": "https://localhost:8080/",
          "height": 52
        },
        "outputId": "ad6537eb-8898-4274-8049-8db7e457f76f"
      },
      "cell_type": "code",
      "source": [
        "print weather.count()\n",
        "print weather.first()"
      ],
      "execution_count": 12,
      "outputs": [
        {
          "output_type": "stream",
          "text": [
            "465318\n",
            "日期,測站,測項,00,01,02,03,04,05,06,07,08,09,10,11,12,13,14,15,16,17,18,19,20,21,22,23\n"
          ],
          "name": "stdout"
        }
      ]
    },
    {
      "metadata": {
        "id": "-6xuyI9R6bwL",
        "colab_type": "code",
        "colab": {
          "base_uri": "https://localhost:8080/",
          "height": 105
        },
        "outputId": "f3c05861-f325-4e2d-d6b3-fa29663aee5c"
      },
      "cell_type": "code",
      "source": [
        "lis = weather.take(5)\n",
        "for x in lis:\n",
        "  print x"
      ],
      "execution_count": 30,
      "outputs": [
        {
          "output_type": "stream",
          "text": [
            "日期,測站,測項,00,01,02,03,04,05,06,07,08,09,10,11,12,13,14,15,16,17,18,19,20,21,22,23\n",
            "2015/01/01,龍潭,AMB_TEMP,14,14,14,13,13,13,12,12,13,14,14,14,14,14,13,13,12,11,11,11,11,11,11,11\n",
            "2015/01/01,龍潭,CO,0.69,0.72,0.69,0.64,0.54,0.47,0.45,0.48,0.51,0.54,0.54,0.5,0.47,0.38,0.36,0.35,0.34,0.37,0.34,0.29,0.26,0.22,0.19,0.18\n",
            "2015/01/01,龍潭,NO,0.3,0.1,0.6,2,2,1.9,2.2,3.1,3.7,4.3,4.3,4.5,3.3,4.1,3.1,3.6,3.6,2.8,2.8,2.5,2.2,1.4,2.1,2\n",
            "2015/01/01,龍潭,NO2,11,9.6,8.7,9.1,9.6,9.9,11,13,11,12,12,11,11,9.9,9.9,10,11,13,11,10,8.2,7.3,6.5,5.5\n"
          ],
          "name": "stdout"
        }
      ]
    },
    {
      "metadata": {
        "id": "6lZMZ1m06bwO",
        "colab_type": "text"
      },
      "cell_type": "markdown",
      "source": [
        "# 練習1: 讓我們求取2015年，大里每小時的平均pm25數值。\n",
        "## 注意事項：\n",
        "1. 資料分割：原始資料每一行為一個觀測值，我們必須將資料進行分割，才能逐一計算與進行操作。\n",
        "2. 資料清洗：在氣象局的原始資料裡，有些數值由於當初偵測時有異常，所以會加註特別符號如\\*\\#等特殊符號，這些數值我們必須先經過前處理，我們才能進行算術運算。\n",
        "3. 資料選擇：將大里資料挑選出來\n",
        "4. 產生key-value，也就是(小時,pm25值)\n",
        "5. 利用flatMap(), reduceByKey(), groupByKey()，將不同日期但相同時間的pm25值收集起來。\n",
        "6. 計算平均值, 標準差, 最大最小值。\n"
      ]
    },
    {
      "metadata": {
        "id": "A7aedWEz6bwO",
        "colab_type": "text"
      },
      "cell_type": "markdown",
      "source": [
        "### 步驟一：資料分割 (使用map () 與 split( ))"
      ]
    },
    {
      "metadata": {
        "id": "_DDuC6At6bwP",
        "colab_type": "code",
        "colab": {
          "base_uri": "https://localhost:8080/",
          "height": 125
        },
        "outputId": "3d37a8a3-f647-4d0d-b7d1-126294ffc3bb"
      },
      "cell_type": "code",
      "source": [
        "weatherParse = weather.map(lambda line : line.split(\",\"))\n",
        "r = weatherParse.take(5)\n",
        "\n",
        "for x in r:\n",
        "    for i in range(len(x)):\n",
        "        print x[i],\n",
        "    print \"\""
      ],
      "execution_count": 37,
      "outputs": [
        {
          "output_type": "stream",
          "text": [
            "日期 測站 測項 00 01 02 03 04 05 06 07 08 09 10 11 12 13 14 15 16 17 18 19 20 21 22 23 \n",
            "2015/01/01 龍潭 AMB_TEMP 14 14 14 13 13 13 12 12 13 14 14 14 14 14 13 13 12 11 11 11 11 11 11 11 \n",
            "2015/01/01 龍潭 CO 0.69 0.72 0.69 0.64 0.54 0.47 0.45 0.48 0.51 0.54 0.54 0.5 0.47 0.38 0.36 0.35 0.34 0.37 0.34 0.29 0.26 0.22 0.19 0.18 \n",
            "2015/01/01 龍潭 NO 0.3 0.1 0.6 2 2 1.9 2.2 3.1 3.7 4.3 4.3 4.5 3.3 4.1 3.1 3.6 3.6 2.8 2.8 2.5 2.2 1.4 2.1 2 \n",
            "2015/01/01 龍潭 NO2 11 9.6 8.7 9.1 9.6 9.9 11 13 11 12 12 11 11 9.9 9.9 10 11 13 11 10 8.2 7.3 6.5 5.5 \n"
          ],
          "name": "stdout"
        }
      ]
    },
    {
      "metadata": {
        "id": "CB_BMIXf6bwR",
        "colab_type": "text"
      },
      "cell_type": "markdown",
      "source": [
        "### 步驟二：將大里站資料從全部資料集中挑選出來 (filter)"
      ]
    },
    {
      "metadata": {
        "id": "P-np2VJz6bwR",
        "colab_type": "text"
      },
      "cell_type": "markdown",
      "source": [
        "須留意unicode與string的差別,  u'大里'"
      ]
    },
    {
      "metadata": {
        "id": "PwzyA92o6bwS",
        "colab_type": "code",
        "colab": {
          "base_uri": "https://localhost:8080/",
          "height": 897
        },
        "outputId": "d6197142-6caa-4821-b867-49f7b1f31edf"
      },
      "cell_type": "code",
      "source": [
        "wea_dali = weatherParse.filter(lambda x: x[1] == u'大里' and x[2]== \"PM2.5\")\n",
        "lis = wea_dali.take(50)\n",
        "for x in lis:\n",
        "      for i in range(len(x)):\n",
        "          print x[i],\n",
        "      print \n"
      ],
      "execution_count": 39,
      "outputs": [
        {
          "output_type": "stream",
          "text": [
            "2015/01/01 大里 PM2.5 53 55 58 53 43 36 35 42 55 64 65 59 52 44 47 41 43 40 42 35 28 20 18 16\n",
            "2015/01/02 大里 PM2.5 21 22 26 23 20 18 15 21 21 25 29 32 34 29 32 39 51 51 47 43 43 48 47 53\n",
            "2015/01/03 大里 PM2.5 48 48 43 38 37 36 37 34 37 46 64 77 83 75 68 69 64 65 59 66 71 66 57 48\n",
            "2015/01/04 大里 PM2.5 60 56 53 43 53 53 52 44 44 50 49 51 45 42 40 38 36 43 51 63 68 72 66 58\n",
            "2015/01/05 大里 PM2.5 48 42 42 34 34 28 34 35 45 47 54 46 35 19 16 21 24 28 37 52 60 62 64 61\n",
            "2015/01/06 大里 PM2.5 59 40 34 25 27 29 26 33 42 47 38 24 14 8 17 30 51 62 68 83 83 96 103 110\n",
            "2015/01/07 大里 PM2.5 117 110 97 68 47 39 34 27 22 15 14  23 18 16 12 10 6 5 9 15 21 23 15\n",
            "2015/01/08 大里 PM2.5 7 9 13 18 11 12 17 29 34 39 41 46 46 44 43 39 41 46 47 48 47 47 43 33\n",
            "2015/01/09 大里 PM2.5 35 34 37 30 25 25 22 21 18 20 14 12 21 31 44 46 52 44 39 37 43 43 42 39\n",
            "2015/01/10 大里 PM2.5 38 33 31 24 20 19 22 31 31 45 48 49 38 39 43 46 43 36 33 29 37 34 39 33\n",
            "2015/01/11 大里 PM2.5 37 41 43 43 27 22 26 34 39 37 51 53 61 56 48 43 37 43 43 48 54 51 46 35\n",
            "2015/01/12 大里 PM2.5 36 40 33 32 33 40 37 34 39 53 60 65 57 50 52 51 43 24 20 28 35 40 30 36\n",
            "2015/01/13 大里 PM2.5 36 36 32 33 38 45 38 45 45 76 84 96 92 87 64 33 21 22 20 15 7 12 9 11\n",
            "2015/01/14 大里 PM2.5 10 7 3 0 3 7 5 1 0 0 0 0 0 0 4 12 13 10 12 14 21 19 15 8\n",
            "2015/01/15 大里 PM2.5 2 3 7 3 7 5 10 7 13 16 14 8 5 13 20 30 30 33 28 29 33 26 23 12\n",
            "2015/01/16 大里 PM2.5 16 15 17 16 16 13 5 10 14 30 30 25 -4# 22 23 30 33 40 43 45 37 34 38 43\n",
            "2015/01/17 大里 PM2.5 42 33 25 18 13 9 12 20 28 33 33 43 52 55 57 60 66 77 76 76 77 74 82 75\n",
            "2015/01/18 大里 PM2.5 77 66 61 62 70 71 69 71 75 82 90 94 88 75 57 47 33 31 25 21 16 16 18 16\n",
            "2015/01/19 大里 PM2.5 14 14 19 18 16 7 6 12 18 30 26 28 31 32 35 37 41 43 42 50 53 54 57 62\n",
            "2015/01/20 大里 PM2.5 62 57 52 53 61 62 62 65 73 82 83 88 83 81 73 71 69 71 66 55 49 42 49 43\n",
            "2015/01/21 大里 PM2.5 46 37 30 31 31 38 42 46 46 36 33 33 37 34 33 33 34 39 48 50 47 45 43 39\n",
            "2015/01/22 大里 PM2.5 36 46 51 43 33 27 36 36 43 29 29 26 32 31 42  73 73 80 82 86 70 74 66\n",
            "2015/01/23 大里 PM2.5 61 47 46 55 49 39 29 31 29 19 12 14 30 49 57 55 57 56 64 72 73 75 68 68\n",
            "2015/01/24 大里 PM2.5 63 61 59 58 56 52 39 33 34 40 30 33 49 66 76 75 73 60 58 67 83 88 87 80\n",
            "2015/01/25 大里 PM2.5 71 68 65 63 63 62 57 55 65 70 79 75 75 64 59 68 78 86 80 74 66 60 49 44\n",
            "2015/01/26 大里 PM2.5 50 53 48 43 38 40 38 47 49 59 55 53 39 29 28 38 51 55 53 55 54 61 55 61\n",
            "2015/01/27 大里 PM2.5 56 52 41 46 49 52 43 43 48 48 40 30 30 33 36 37 35 36 43 46 42 30 22 17\n",
            "2015/01/28 大里 PM2.5 17 9 12 6 7 2 0 0 0 0 2 7 8 13 11 15 12 20 23 21 13 7 11 12\n",
            "2015/01/29 大里 PM2.5 14 14 12 7 1 0 4 6 12 16 15  52x 38x 30 29 27 29 24 24 21 19 19 23\n",
            "2015/01/30 大里 PM2.5 17 15 13 15 14 14 9 8 10 12 12 8 7 12 16 25 24 24 14 10 5 3 7 6\n",
            "2015/01/31 大里 PM2.5 6 0 1 9 9 10 7 12 12 10 17 23 26 27 28 33 31 35 30 33 23 16 8 8\n",
            "2015/02/01 大里 PM2.5 17 11 8 2 3 1 0 2 5 10 8 10 23 26 23 13 11 16 18 23 23 15 16 12\n",
            "2015/02/02 大里 PM2.5 15 12 18 25 25 25 25 32 37 39 45 47 49 45 36 30 21 24 23 27 24 19 10 15\n",
            "2015/02/03 大里 PM2.5 23 27 25 22 17 17 16 23 26 31 28 20 17 22 27 25 23 13 5 3 2 2 2 10\n",
            "2015/02/04 大里 PM2.5 10 12 9 12 7 4 4 2 13 20 26 16 10 19 23 26 21 26 33 28 29 27 31 26\n",
            "2015/02/05 大里 PM2.5 21 28 25 33 33 37 32 19 19 24 39 53 65   93 93 90 86 80 76 75 80 71\n",
            "2015/02/06 大里 PM2.5 63 53 52 51 51 47 43 30 27 28  41 56 60 59 53 53 51 44 41 39 41 35 31\n",
            "2015/02/07 大里 PM2.5 32 32 38 43 49 48 47 54 56 60 62 66 70 73 60 46 23 25 23 40 36 32 25 29\n",
            "2015/02/08 大里 PM2.5 39 38 34 28 14 15 13 23 18 24 26 32 31 33 36 39 38 49 53 60 53 43 34 28\n",
            "2015/02/09 大里 PM2.5 23 15 6 3 6 9 9 7 8 7 12 12 12 7 9 9 12 11 15 12 16 11 15 8\n",
            "2015/02/10 大里 PM2.5 9 3 7 3 4 0 0 0 3 12  11 20 22 28 26 30 32 24 14 17 19 29 24\n",
            "2015/02/11 大里 PM2.5 24 23 24 27 23 11 16 14 32 33 55 58 55 37 24 23 23 30 28 28 27 32 44 47\n",
            "2015/02/12 大里 PM2.5 54 48 47 43 42 43 43 55 54 53 51  48 45 39 45 48 47 47 44 49 56 64 61\n",
            "2015/02/13 大里 PM2.5 51 49 44 46 39 39 37 38 53 54 53 39 39 44 50 50 53 63 74 75 68 70 62 62\n",
            "2015/02/14 大里 PM2.5 54 57 53 52 58 57 53 53 74 82 81 72 68 73 58 53 35 40 48 50 59 57 67 68\n",
            "2015/02/15 大里 PM2.5 66 83 88 94 81 64 58 53 51 57 48 53 43 70 94 104 86 67 58 70 79 79 74 65\n",
            "2015/02/16 大里 PM2.5 70 67 63 55 39 28 28 46 67x 64x  41 33 21 24 18 18 16 23 27 27 38 41 44\n",
            "2015/02/17 大里 PM2.5 43 34 37 32 36 31 23 28 33 49 60 70 77 62 54 41 46 43 41 47 52 59 58 63\n",
            "2015/02/18 大里 PM2.5 67 71 70 67 59 55 51 53 53 55 49 41 38 44 51 53 53 57 49 50 48 47 47 42\n",
            "2015/02/19 大里 PM2.5 58 60 62 47 49 43 37 39 47 58 54 52 51 46 43 35 29 31 27 33 33 43 40 50\n"
          ],
          "name": "stdout"
        }
      ]
    },
    {
      "metadata": {
        "id": "ImDZp8136bwV",
        "colab_type": "text"
      },
      "cell_type": "markdown",
      "source": [
        "### 步驟三：資料清洗 (使用 map(), str.strip())\n",
        "#### 在氣象局的原始資料裡，有些數值由於當初偵測時有異常，所以會加註特別符號如\\*\\#等特殊符號，或者沒有取到數值為一空值，這些數值我們必須先經過前處理，我們才能進行算術運算。\n",
        "1. ```2015/01/29 大里 PM2.5 14 14 12 7 1 0 4 6 12 16 15  52x 38x 30 29 27 29 24 24 21 19 19 23```\n",
        "2. ```2015/01/16 大里 PM2.5 16 15 17 16 16 13 5 10 14 30 30 25 -4# 22 23 30 33 40 43 45 37 34 38 43``` "
      ]
    },
    {
      "metadata": {
        "id": "Uqf9UPnz6bwV",
        "colab_type": "code",
        "colab": {}
      },
      "cell_type": "code",
      "source": [
        "def strip_symbol(x):\n",
        "    for i in range(len(x)):\n",
        "        x[i] = x[i].strip(\"-*#x\") # remove non-digits\n",
        "        if x[i]==\"\": x[i]=\"0\"\n",
        "    return x\n",
        "\n",
        "wea_dali = wea_dali.map(strip_symbol)\n"
      ],
      "execution_count": 0,
      "outputs": []
    },
    {
      "metadata": {
        "id": "vWnybfVB6bwY",
        "colab_type": "text"
      },
      "cell_type": "markdown",
      "source": [
        "### 步驟四：key value pair的產生 (重要的操作概念)\n",
        "*將每小時資料轉成(小時,pm數值)，以求取每小時的平均值。\n",
        "\n",
        "例如：\n",
        "    2015/01/01 大里 PM2.5 53 55 58 53 43 36 35 42 55 64 65 59 52 44 47 41 43 40 42 35 28 20 18 16\n",
        "    --> [(3, 53) (4, 55) (5, 58) (6, 53) (7, 43) (8, 36) (9, 35) (10, 42) (11, 55) (12, 64) (13, 65) (14, 59) (15, 52) (16, 44) (17, 47) (18, 41) (19, 43) (20, 40) (21, 42) (22, 35) (23, 28) (24, 20) (25, 18) (26, 16)]\n"
      ]
    },
    {
      "metadata": {
        "id": "iGjDPGJl6bwZ",
        "colab_type": "code",
        "colab": {
          "base_uri": "https://localhost:8080/",
          "height": 34
        },
        "outputId": "312b8367-4285-428d-84ff-3a96fed9e05f"
      },
      "cell_type": "code",
      "source": [
        "for i in wea_dali.first():\n",
        "    print i,"
      ],
      "execution_count": 43,
      "outputs": [
        {
          "output_type": "stream",
          "text": [
            "2015/01/01 大里 PM2.5 53 55 58 53 43 36 35 42 55 64 65 59 52 44 47 41 43 40 42 35 28 20 18 16\n"
          ],
          "name": "stdout"
        }
      ]
    },
    {
      "metadata": {
        "id": "OPJlnWbz6bwa",
        "colab_type": "code",
        "colab": {
          "base_uri": "https://localhost:8080/",
          "height": 54
        },
        "outputId": "8b523f6e-2bbb-4626-a3e6-c8dcf520b815"
      },
      "cell_type": "code",
      "source": [
        "def hourKeyGen(x):\n",
        "    hourkeypair = []\n",
        "    for i in range(3,27):\n",
        "        hourkeypair.append((i-3,float(x[i])))\n",
        "    return hourkeypair\n",
        "\n",
        "wea_dali_byHourkey = wea_dali.map(hourKeyGen)\n",
        "\n",
        "for i in wea_dali_byHourkey.first():\n",
        "    print i,"
      ],
      "execution_count": 46,
      "outputs": [
        {
          "output_type": "stream",
          "text": [
            "(0, 53.0) (1, 55.0) (2, 58.0) (3, 53.0) (4, 43.0) (5, 36.0) (6, 35.0) (7, 42.0) (8, 55.0) (9, 64.0) (10, 65.0) (11, 59.0) (12, 52.0) (13, 44.0) (14, 47.0) (15, 41.0) (16, 43.0) (17, 40.0) (18, 42.0) (19, 35.0) (20, 28.0) (21, 20.0) (22, 18.0) (23, 16.0)\n"
          ],
          "name": "stdout"
        }
      ]
    },
    {
      "metadata": {
        "id": "kNfl3Vio6bwd",
        "colab_type": "text"
      },
      "cell_type": "markdown",
      "source": [
        "### 步驟五： 利用flatMap(), reduceByKey(), groupByKey()，將不同日期但相同時間的pm25值收集起來。(使用flatMap)"
      ]
    },
    {
      "metadata": {
        "id": "rQWgeD-w6bwf",
        "colab_type": "code",
        "colab": {
          "base_uri": "https://localhost:8080/",
          "height": 193
        },
        "outputId": "dec41453-97e5-479c-a719-722b99a09d51"
      },
      "cell_type": "code",
      "source": [
        "def hourKeyGen(x):\n",
        "    hourkeypair = []\n",
        "    for i in range(3,27):\n",
        "        hourkeypair.append((i-3,float(x[i])))\n",
        "    return hourkeypair\n",
        "\n",
        "byHourkey = wea_dali.flatMap(hourKeyGen)\n",
        "byHourkey.reduceByKey(lambda x,y: x+y).take(10)"
      ],
      "execution_count": 47,
      "outputs": [
        {
          "output_type": "execute_result",
          "data": {
            "text/plain": [
              "[(0, 9838.0),\n",
              " (2, 9229.0),\n",
              " (4, 8346.0),\n",
              " (6, 8121.0),\n",
              " (8, 9580.0),\n",
              " (10, 10919.0),\n",
              " (12, 11505.0),\n",
              " (14, 10172.0),\n",
              " (16, 10396.0),\n",
              " (18, 10396.0)]"
            ]
          },
          "metadata": {
            "tags": []
          },
          "execution_count": 47
        }
      ]
    },
    {
      "metadata": {
        "id": "dtQpIRWJ6bwh",
        "colab_type": "text"
      },
      "cell_type": "markdown",
      "source": [
        "### 步驟六： 計算大里區每個小時區間中，平均之pm25數值 (使用reduceByKey)"
      ]
    },
    {
      "metadata": {
        "id": "SlXpUgc36bwi",
        "colab_type": "code",
        "colab": {
          "base_uri": "https://localhost:8080/",
          "height": 439
        },
        "outputId": "cd1934b1-d030-4d2a-886b-667bdfa532c8"
      },
      "cell_type": "code",
      "source": [
        "avg_pm25_hour = byHourkey.reduceByKey(lambda x,y: x+y)\n",
        "avg_pm25_hour.map(lambda x:(x[0],x[1]/365)).collect()"
      ],
      "execution_count": 48,
      "outputs": [
        {
          "output_type": "execute_result",
          "data": {
            "text/plain": [
              "[(0, 26.953424657534246),\n",
              " (2, 25.284931506849315),\n",
              " (4, 22.865753424657534),\n",
              " (6, 22.24931506849315),\n",
              " (8, 26.246575342465754),\n",
              " (10, 29.915068493150685),\n",
              " (12, 31.52054794520548),\n",
              " (14, 27.86849315068493),\n",
              " (16, 28.482191780821918),\n",
              " (18, 28.482191780821918),\n",
              " (20, 30.136986301369863),\n",
              " (22, 29.161643835616438),\n",
              " (1, 25.704109589041096),\n",
              " (3, 23.76164383561644),\n",
              " (5, 21.975342465753425),\n",
              " (7, 23.572602739726026),\n",
              " (9, 29.252054794520546),\n",
              " (11, 30.265753424657536),\n",
              " (13, 30.65205479452055),\n",
              " (15, 28.147945205479452),\n",
              " (17, 28.295890410958904),\n",
              " (19, 29.315068493150687),\n",
              " (21, 29.783561643835615),\n",
              " (23, 27.852054794520548)]"
            ]
          },
          "metadata": {
            "tags": []
          },
          "execution_count": 48
        }
      ]
    },
    {
      "metadata": {
        "id": "Mko2dCdz6bwk",
        "colab_type": "text"
      },
      "cell_type": "markdown",
      "source": [
        "### 步驟七： 根據pm25平均濃度，進行排序。使用top( )"
      ]
    },
    {
      "metadata": {
        "id": "_qgZSxDs6bwl",
        "colab_type": "code",
        "colab": {
          "base_uri": "https://localhost:8080/",
          "height": 439
        },
        "outputId": "455df82a-0801-4c48-e3a0-cc45f6d7a744"
      },
      "cell_type": "code",
      "source": [
        "avg_pm25_hour = byHourkey.reduceByKey(lambda x,y: x+y)\n",
        "avg_pm25_hour.map(lambda x:(x[0],x[1]/365.0)).map(lambda x: (x[1],x[0])).top(24)"
      ],
      "execution_count": 49,
      "outputs": [
        {
          "output_type": "execute_result",
          "data": {
            "text/plain": [
              "[(31.52054794520548, 12),\n",
              " (30.65205479452055, 13),\n",
              " (30.265753424657536, 11),\n",
              " (30.136986301369863, 20),\n",
              " (29.915068493150685, 10),\n",
              " (29.783561643835615, 21),\n",
              " (29.315068493150687, 19),\n",
              " (29.252054794520546, 9),\n",
              " (29.161643835616438, 22),\n",
              " (28.482191780821918, 18),\n",
              " (28.482191780821918, 16),\n",
              " (28.295890410958904, 17),\n",
              " (28.147945205479452, 15),\n",
              " (27.86849315068493, 14),\n",
              " (27.852054794520548, 23),\n",
              " (26.953424657534246, 0),\n",
              " (26.246575342465754, 8),\n",
              " (25.704109589041096, 1),\n",
              " (25.284931506849315, 2),\n",
              " (23.76164383561644, 3),\n",
              " (23.572602739726026, 7),\n",
              " (22.865753424657534, 4),\n",
              " (22.24931506849315, 6),\n",
              " (21.975342465753425, 5)]"
            ]
          },
          "metadata": {
            "tags": []
          },
          "execution_count": 49
        }
      ]
    },
    {
      "metadata": {
        "id": "sReXkMgl6bwo",
        "colab_type": "text"
      },
      "cell_type": "markdown",
      "source": [
        "### 步驟八： 計算每個時間點的統計值，例如最大值、最小值、平均值、標準差(使用 groupByKey()與mapValues())"
      ]
    },
    {
      "metadata": {
        "id": "1hYPP0FB6bwo",
        "colab_type": "code",
        "colab": {
          "base_uri": "https://localhost:8080/",
          "height": 439
        },
        "outputId": "19f173a8-6238-44bf-af63-99f865d8f46e"
      },
      "cell_type": "code",
      "source": [
        "import numpy as np\n",
        "\n",
        "def hourKeyGen(x):\n",
        "    hourkeypair = []\n",
        "    for i in range(3,27):\n",
        "        hourkeypair.append((i-3,float(x[i])))\n",
        "    return hourkeypair\n",
        "\n",
        "hour_stat_list = byHourkey.groupByKey().mapValues(list).collect()\n",
        "\n",
        "for i in sorted(hour_stat_list):\n",
        "    print i[0],max(i[1]),min(i[1]),np.mean(i[1]),np.var(i[1])"
      ],
      "execution_count": 50,
      "outputs": [
        {
          "output_type": "stream",
          "text": [
            "0 117.0 0.0 26.953424657534246 382.0224882717208\n",
            "1 110.0 0.0 25.704109589041096 362.93710639894914\n",
            "2 107.0 0.0 25.284931506849315 354.74621129667855\n",
            "3 102.0 0.0 23.76164383561644 330.0555151060236\n",
            "4 98.0 0.0 22.865753424657534 310.53814224057044\n",
            "5 88.0 0.0 21.975342465753425 299.8651454306624\n",
            "6 96.0 0.0 22.24931506849315 273.9624995308688\n",
            "7 102.0 0.0 23.572602739726026 286.573495965472\n",
            "8 109.0 0.0 26.246575342465754 311.0241321073372\n",
            "9 114.0 0.0 29.252054794520546 361.73920810658655\n",
            "10 114.0 0.0 29.915068493150685 394.8064852692814\n",
            "11 117.0 0.0 30.265753424657536 407.89375867892664\n",
            "12 112.0 0.0 31.52054794520548 404.74820791893416\n",
            "13 103.0 0.0 30.65205479452055 385.36112591480577\n",
            "14 94.0 0.0 27.86849315068493 346.4484593732408\n",
            "15 104.0 0.0 28.147945205479452 354.9753724901482\n",
            "16 93.0 0.0 28.482191780821918 297.4003677988365\n",
            "17 90.0 0.0 28.295890410958904 303.5343666729217\n",
            "18 88.0 0.0 28.482191780821918 299.4825595796585\n",
            "19 99.0 0.0 29.315068493150687 342.48429348845934\n",
            "20 101.0 0.0 30.136986301369863 365.7127416025521\n",
            "21 100.0 0.0 29.783561643835615 375.3093188215425\n",
            "22 107.0 0.0 29.161643835616438 390.53003565396887\n",
            "23 110.0 0.0 27.852054794520548 368.1315368737099\n"
          ],
          "name": "stdout"
        }
      ]
    },
    {
      "metadata": {
        "id": "AF0Vd9yZ6bwq",
        "colab_type": "text"
      },
      "cell_type": "markdown",
      "source": [
        "# 練習2: 請求取2015年，全國pm2.5最高的前十個工作站測點以及其日期。"
      ]
    },
    {
      "metadata": {
        "id": "cJBYpK6G6bws",
        "colab_type": "code",
        "colab": {}
      },
      "cell_type": "code",
      "source": [
        "### weatherParse 為原始資料集\n",
        "pm25_data_set = weatherParse.filter(lambda x: x[2]==\"PM2.5\")\n",
        "\n",
        "### 資料清洗\n",
        "def strip_symbol(x):\n",
        "    for i in range(len(x)):\n",
        "        #x[i] = x[i].strip(\"-*#x\") # remove non-digits\n",
        "        if \"#\" in x[i]:x[i]=\"0\"\n",
        "        if \"*\" in x[i]:x[i]=\"0\"\n",
        "        if \"x\" in x[i]:x[i]=\"0\"\n",
        "        if \"-\" in x[i]:x[i]=\"0\"\n",
        "        if x[i]==\"\": x[i]=\"0\"\n",
        "    return x\n",
        "\n",
        "clean_pm25_data_set = pm25_data_set.map(strip_symbol)\n",
        "#clean_pm25_data_set.take(2)"
      ],
      "execution_count": 0,
      "outputs": []
    },
    {
      "metadata": {
        "id": "4sEW-ZIo6bww",
        "colab_type": "code",
        "colab": {},
        "outputId": "365e2228-d63f-49cb-feca-492d9c5accfe"
      },
      "cell_type": "code",
      "source": [
        "def date_location_time (x):\n",
        "    date_loc_time_measure = []\n",
        "    for i in range(3,27):\n",
        "        date_loc_time_string = x[0]+x[1]+\"_\"+str(i)\n",
        "        date_loc_time_measure.append((date_loc_time_string,int(x[i])))\n",
        "    return date_loc_time_measure\n",
        "\n",
        "top10pm25 = clean_pm25_data_set.flatMap(date_location_time).map(lambda x: (x[1],x[0])).top(10)    \n",
        "\n",
        "for i in top10pm25:\n",
        "    print i[0],i[1],\n",
        "    print \"\""
      ],
      "execution_count": 0,
      "outputs": [
        {
          "output_type": "stream",
          "text": [
            "319 2015/04/18埔里_24 \n",
            "301 2015/01/01馬公_4 \n",
            "296 2015/01/01馬公_3 \n",
            "238 2015/04/18埔里_25 \n",
            "238 2015/01/06金門_14 \n",
            "213 2015/01/06金門_13 \n",
            "196 2015/05/11朴子_24 \n",
            "196 2015/01/03三義_25 \n",
            "193 2015/05/11朴子_23 \n",
            "189 2015/01/06金門_8 \n"
          ],
          "name": "stdout"
        }
      ]
    },
    {
      "metadata": {
        "id": "z3Ahgkm-6bwy",
        "colab_type": "code",
        "colab": {}
      },
      "cell_type": "code",
      "source": [
        "precTop10=[]\n",
        "stationsTop10=[]\n",
        "for result in top10pm25:\n",
        "    precTop10.append(result[0])\n",
        "    stationsTop10.append(result[1])"
      ],
      "execution_count": 0,
      "outputs": []
    },
    {
      "metadata": {
        "id": "OAYJncl_6bwz",
        "colab_type": "text"
      },
      "cell_type": "markdown",
      "source": [
        "Plot your results."
      ]
    },
    {
      "metadata": {
        "id": "JuqkVh376bwz",
        "colab_type": "code",
        "colab": {},
        "outputId": "bed7d3ae-8f7a-4f1f-f7fd-acbf3890b6d8"
      },
      "cell_type": "code",
      "source": [
        "%matplotlib inline\n",
        "import numpy as np\n",
        "import matplotlib.pyplot as plt\n",
        "\n",
        "N = 10\n",
        "index = np.arange(N)  \n",
        "bar_width = 0.5\n",
        "\n",
        "plt.bar(index, precTop10, bar_width,\n",
        "                 color='b')\n",
        "plt.xlabel('Stations')\n",
        "plt.ylabel('pm25')\n",
        "plt.title('10 stations with the highest average pm25')\n",
        "plt.xticks(index + bar_width, stationsTop10, rotation=90)\n",
        "plt.show()"
      ],
      "execution_count": 0,
      "outputs": [
        {
          "output_type": "display_data",
          "data": {
            "image/png": "[encoded data removed]",
            "text/plain": [
              "<matplotlib.figure.Figure at 0x7f245a30bfd0>"
            ]
          },
          "metadata": {
            "tags": []
          }
        }
      ]
    },
    {
      "metadata": {
        "id": "cWayHXWE6bw2",
        "colab_type": "text"
      },
      "cell_type": "markdown",
      "source": [
        "# 練習3: 請算算看2015全國哪個測站，紫爆天數最多？\n",
        "### 假設當日平均值大於60，則算該日該地區紫爆\n"
      ]
    },
    {
      "metadata": {
        "id": "Liq1IcEX6bw2",
        "colab_type": "code",
        "colab": {},
        "outputId": "9e3072ca-3009-4422-c83d-80d0a3ca7465"
      },
      "cell_type": "code",
      "source": [
        "pm25_data_set = weatherParse.filter(lambda x: x[2]==\"PM2.5\")\n",
        "\n",
        "### 資料清洗\n",
        "def strip_symbol(x):\n",
        "    for i in range(len(x)):\n",
        "        #x[i] = x[i].strip(\"-*#x\") # remove non-digits\n",
        "        if \"#\" in x[i]:x[i]=\"0\"\n",
        "        if \"*\" in x[i]:x[i]=\"0\"\n",
        "        if \"x\" in x[i]:x[i]=\"0\"\n",
        "        if \"-\" in x[i]:x[i]=\"0\"\n",
        "        if x[i]==\"\": x[i]=\"0\"\n",
        "    return x\n",
        "\n",
        "def toFloat(x):\n",
        "    location = x[1]\n",
        "    del x[0:3]\n",
        "    for i in range(len(x)):\n",
        "        x[i]=float(x[i])\n",
        "    return (location, sum(x)/len(x))\n",
        "\n",
        "clean_pm25_data_set = pm25_data_set.map(strip_symbol)\n",
        "Worst = clean_pm25_data_set.map(toFloat).filter(lambda x:x[1]>60).\n",
        "\\groupByKey().mapValues(list)\\\n",
        ".map(lambda x:(x[0],len(x[1]))).sortBy(lambda x:x[1], ascending=False).collect()\n",
        "\n",
        "for loc in Worst:\n",
        "    print loc[0],loc[1],\n",
        "    print \"\"\n",
        "\n",
        "\n"
      ],
      "execution_count": 0,
      "outputs": [
        {
          "output_type": "stream",
          "text": [
            "竹山 28 \n",
            "斗六 28 \n",
            "崙背 25 \n",
            "金門 21 \n",
            "善化 20 \n",
            "埔里 18 \n",
            "復興 17 \n",
            "左營 17 \n",
            "橋頭 16 \n",
            "小港 15 \n",
            "嘉義 14 \n",
            "楠梓 13 \n",
            "麥寮 13 \n",
            "大里 13 \n",
            "二林 13 \n",
            "忠明 12 \n",
            "鳳山 12 \n",
            "大寮 12 \n",
            "仁武 12 \n",
            "臺西 11 \n",
            "西屯 10 \n",
            "馬祖 10 \n",
            "前鎮 10 \n",
            "林園 10 \n",
            "安南 9 \n",
            "屏東 9 \n",
            "臺南 9 \n",
            "新營 9 \n",
            "新港 8 \n",
            "潮州 8 \n",
            "南投 8 \n",
            "前金 8 \n",
            "線西 7 \n",
            "彰化 7 \n",
            "朴子 6 \n",
            "桃園 4 \n",
            "萬華 4 \n",
            "新莊 4 \n",
            "頭份 4 \n",
            "沙鹿 4 \n",
            "古亭 3 \n",
            "美濃 3 \n",
            "中山 3 \n",
            "苗栗 3 \n",
            "林口 3 \n",
            "新店 2 \n",
            "松山 2 \n",
            "平鎮 2 \n",
            "龍潭 2 \n",
            "永和 2 \n",
            "竹東 2 \n",
            "三重 2 \n",
            "基隆 2 \n",
            "大園 1 \n",
            "中壢 1 \n",
            "觀音 1 \n",
            "土城 1 \n",
            "湖口 1 \n",
            "新竹 1 \n",
            "豐原 1 \n",
            "士林 1 \n",
            "萬里 1 \n",
            "板橋 1 \n"
          ],
          "name": "stdout"
        }
      ]
    },
    {
      "metadata": {
        "id": "-4izkMXe6bw5",
        "colab_type": "code",
        "colab": {}
      },
      "cell_type": "code",
      "source": [
        ""
      ],
      "execution_count": 0,
      "outputs": []
    }
  ]
}