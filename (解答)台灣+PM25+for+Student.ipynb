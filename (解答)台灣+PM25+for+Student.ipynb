{
 "cells": [
  {
   "cell_type": "markdown",
   "metadata": {},
   "source": [
    "# PM2.5台灣"
   ]
  },
  {
   "cell_type": "markdown",
   "metadata": {},
   "source": [
    "<a id=\"load_data\"></a>\n",
    "## 上傳台灣2015一整年空氣監測資料 "
   ]
  },
  {
   "cell_type": "markdown",
   "metadata": {},
   "source": [
    "### 步驟1: 將2015空氣監控資料，上傳至bluemix"
   ]
  },
  {
   "cell_type": "code",
   "execution_count": 1,
   "metadata": {
    "collapsed": true
   },
   "outputs": [],
   "source": [
    "def set_hadoop_config(credentials):\n",
    "    prefix = \"fs.swift.service.\" + credentials['name'] \n",
    "    hconf = sc._jsc.hadoopConfiguration()\n",
    "    hconf.set(prefix + \".auth.url\", credentials['auth_url']+'/v3/auth/tokens')\n",
    "    hconf.set(prefix + \".auth.endpoint.prefix\", \"endpoints\")\n",
    "    hconf.set(prefix + \".tenant\", credentials['project_id'])\n",
    "    hconf.set(prefix + \".username\", credentials['user_id'])\n",
    "    hconf.set(prefix + \".password\", credentials['password'])\n",
    "    hconf.setInt(prefix + \".http.port\", 8080)\n",
    "    hconf.set(prefix + \".region\", credentials['region'])\n",
    "    hconf.setBoolean(prefix + \".public\", True)"
   ]
  },
  {
   "cell_type": "markdown",
   "metadata": {},
   "source": [
    "### 步驟2: 將上傳資料與目前機器建立連結 `Insert to code` (畫面的右邊)"
   ]
  },
  {
   "cell_type": "code",
   "execution_count": 2,
   "metadata": {
    "collapsed": true
   },
   "outputs": [],
   "source": [
    "credentials_3 = {\n",
    "  'auth_url':'https://identity.open.softlayer.com',\n",
    "  'project':'object_storage_46719cd2_5b49_4783_8b86_f8a11f0314d4',\n",
    "  'project_id':'646b1215221e4e7d8254de7bdf43bf1f',\n",
    "  'region':'dallas',\n",
    "  'user_id':'e0e7b9afb0884dfc8639dbf8606db94c',\n",
    "  'domain_id':'a299c7413da54b60925ac070303b298e',\n",
    "  'domain_name':'1159491',\n",
    "  'username':'admin_ac4deff35b52ba280c7b60966e456e345cd3f69c',\n",
    "  'password':\"\"\"jbE.e.rL^P9Z.9MC\"\"\",\n",
    "  'filename':'pm2.5Taiwan.csv',\n",
    "  'container':'notebooks',\n",
    "  'tenantId':'sabe-89ac5efdbd68bd-a6554b527697'\n",
    "}"
   ]
  },
  {
   "cell_type": "markdown",
   "metadata": {},
   "source": [
    "### 步驟3: 將我們存放於open stack的資料集取名"
   ]
  },
  {
   "cell_type": "code",
   "execution_count": 3,
   "metadata": {
    "collapsed": false
   },
   "outputs": [],
   "source": [
    "credentials_3['name'] = 'pm25'\n",
    "set_hadoop_config(credentials_3)"
   ]
  },
  {
   "cell_type": "markdown",
   "metadata": {},
   "source": [
    "Now you can access the data by using the preconfigured `SparkContext` function in your notebook. \n",
    "\n",
    "First create a resilient distributed dataset ([`RDD`](https://spark.apache.org/docs/1.6.0/programming-guide.html#resilient-distributed-datasets-rdds)) of the raw data file. You can refer to it by using a URI of the form:\n",
    "\n",
    "```\n",
    "swift://container_name.name/object_name\n",
    "```\n",
    "\n",
    "If you didn't define a container name, at the time you created the Object Storage instance, the default container name that is used is `notebooks`. In this case, you can run the next code cell as it stands. Otherwise, change the container name. For `name` insert the Hadoop configuration name you defined, for example, `keystone`."
   ]
  },
  {
   "cell_type": "code",
   "execution_count": 4,
   "metadata": {
    "collapsed": false
   },
   "outputs": [],
   "source": [
    "weather = sc.textFile(\"swift://notebooks.pm25/pm2.5Taiwan.csv\")"
   ]
  },
  {
   "cell_type": "markdown",
   "metadata": {},
   "source": [
    "### 步驟4: 試試看是否成功上傳  (使用count( ), first( ), collect( ), take( ) )"
   ]
  },
  {
   "cell_type": "code",
   "execution_count": 6,
   "metadata": {
    "collapsed": false
   },
   "outputs": [
    {
     "name": "stdout",
     "output_type": "stream",
     "text": [
      "465318\n",
      "日期,測站,測項,00,01,02,03,04,05,06,07,08,09,10,11,12,13,14,15,16,17,18,19,20,21,22,23\n"
     ]
    }
   ],
   "source": [
    "print weather.count()\n",
    "print weather.first()"
   ]
  },
  {
   "cell_type": "code",
   "execution_count": 7,
   "metadata": {
    "collapsed": false
   },
   "outputs": [
    {
     "name": "stdout",
     "output_type": "stream",
     "text": [
      "日期,測站,測項,00,01,02,03,04,05,06,07,08,09,10,11,12,13,14,15,16,17,18,19,20,21,22,23\n",
      "2015/01/01,龍潭,AMB_TEMP,14,14,14,13,13,13,12,12,13,14,14,14,14,14,13,13,12,11,11,11,11,11,11,11\n",
      "2015/01/01,龍潭,CO,0.69,0.72,0.69,0.64,0.54,0.47,0.45,0.48,0.51,0.54,0.54,0.5,0.47,0.38,0.36,0.35,0.34,0.37,0.34,0.29,0.26,0.22,0.19,0.18\n",
      "2015/01/01,龍潭,NO,0.3,0.1,0.6,2,2,1.9,2.2,3.1,3.7,4.3,4.3,4.5,3.3,4.1,3.1,3.6,3.6,2.8,2.8,2.5,2.2,1.4,2.1,2\n",
      "2015/01/01,龍潭,NO2,11,9.6,8.7,9.1,9.6,9.9,11,13,11,12,12,11,11,9.9,9.9,10,11,13,11,10,8.2,7.3,6.5,5.5\n"
     ]
    }
   ],
   "source": [
    "lis = weather.take(5)\n",
    "for x in lis:\n",
    " print x"
   ]
  },
  {
   "cell_type": "markdown",
   "metadata": {},
   "source": [
    "# 練習1: 讓我們求取2015年，大里每小時的平均pm25數值。\n",
    "## 注意事項：\n",
    "1. 資料分割：原始資料每一行為一個觀測值，我們必須將資料進行分割，才能逐一計算與進行操作。\n",
    "2. 資料清洗：在氣象局的原始資料裡，有些數值由於當初偵測時有異常，所以會加註特別符號如\\*\\#等特殊符號，這些數值我們必須先經過前處理，我們才能進行算術運算。\n",
    "3. 資料選擇：將大里資料挑選出來\n",
    "4. 產生key-value，也就是(小時,pm25值)\n",
    "5. 利用flatMap(), reduceByKey(), groupByKey()，將不同日期但相同時間的pm25值收集起來。\n",
    "6. 計算平均值, 標準差, 最大最小值。\n"
   ]
  },
  {
   "cell_type": "markdown",
   "metadata": {},
   "source": [
    "### 步驟一：資料分割 (使用map () 與 split( ))"
   ]
  },
  {
   "cell_type": "code",
   "execution_count": 8,
   "metadata": {
    "collapsed": false
   },
   "outputs": [
    {
     "name": "stdout",
     "output_type": "stream",
     "text": [
      "日期 測站 測項 00 01 02 03 04 05 06 07 08 09 10 11 12 13 14 15 16 17 18 19 20 21 22 23 \n",
      "2015/01/01 龍潭 AMB_TEMP 14 14 14 13 13 13 12 12 13 14 14 14 14 14 13 13 12 11 11 11 11 11 11 11 \n",
      "2015/01/01 龍潭 CO 0.69 0.72 0.69 0.64 0.54 0.47 0.45 0.48 0.51 0.54 0.54 0.5 0.47 0.38 0.36 0.35 0.34 0.37 0.34 0.29 0.26 0.22 0.19 0.18 \n",
      "2015/01/01 龍潭 NO 0.3 0.1 0.6 2 2 1.9 2.2 3.1 3.7 4.3 4.3 4.5 3.3 4.1 3.1 3.6 3.6 2.8 2.8 2.5 2.2 1.4 2.1 2 \n",
      "2015/01/01 龍潭 NO2 11 9.6 8.7 9.1 9.6 9.9 11 13 11 12 12 11 11 9.9 9.9 10 11 13 11 10 8.2 7.3 6.5 5.5 \n"
     ]
    }
   ],
   "source": [
    "weatherParse = weather.map(lambda line : line.split(\",\"))\n",
    "r = weatherParse.take(5)\n",
    "\n",
    "for x in r:\n",
    "    for i in range(len(x)):\n",
    "        print x[i],\n",
    "    print \"\""
   ]
  },
  {
   "cell_type": "markdown",
   "metadata": {},
   "source": [
    "### 步驟二：將大里站資料從全部資料集中挑選出來 (filter)"
   ]
  },
  {
   "cell_type": "markdown",
   "metadata": {},
   "source": [
    "須留意unicode與string的差別,  u'大里'"
   ]
  },
  {
   "cell_type": "code",
   "execution_count": 9,
   "metadata": {
    "collapsed": false
   },
   "outputs": [
    {
     "name": "stdout",
     "output_type": "stream",
     "text": [
      "2015/01/01 大里 PM2.5 53 55 58 53 43 36 35 42 55 64 65 59 52 44 47 41 43 40 42 35 28 20 18 16\n",
      "2015/01/02 大里 PM2.5 21 22 26 23 20 18 15 21 21 25 29 32 34 29 32 39 51 51 47 43 43 48 47 53\n",
      "2015/01/03 大里 PM2.5 48 48 43 38 37 36 37 34 37 46 64 77 83 75 68 69 64 65 59 66 71 66 57 48\n",
      "2015/01/04 大里 PM2.5 60 56 53 43 53 53 52 44 44 50 49 51 45 42 40 38 36 43 51 63 68 72 66 58\n",
      "2015/01/05 大里 PM2.5 48 42 42 34 34 28 34 35 45 47 54 46 35 19 16 21 24 28 37 52 60 62 64 61\n",
      "2015/01/06 大里 PM2.5 59 40 34 25 27 29 26 33 42 47 38 24 14 8 17 30 51 62 68 83 83 96 103 110\n",
      "2015/01/07 大里 PM2.5 117 110 97 68 47 39 34 27 22 15 14  23 18 16 12 10 6 5 9 15 21 23 15\n",
      "2015/01/08 大里 PM2.5 7 9 13 18 11 12 17 29 34 39 41 46 46 44 43 39 41 46 47 48 47 47 43 33\n",
      "2015/01/09 大里 PM2.5 35 34 37 30 25 25 22 21 18 20 14 12 21 31 44 46 52 44 39 37 43 43 42 39\n",
      "2015/01/10 大里 PM2.5 38 33 31 24 20 19 22 31 31 45 48 49 38 39 43 46 43 36 33 29 37 34 39 33\n",
      "2015/01/11 大里 PM2.5 37 41 43 43 27 22 26 34 39 37 51 53 61 56 48 43 37 43 43 48 54 51 46 35\n",
      "2015/01/12 大里 PM2.5 36 40 33 32 33 40 37 34 39 53 60 65 57 50 52 51 43 24 20 28 35 40 30 36\n",
      "2015/01/13 大里 PM2.5 36 36 32 33 38 45 38 45 45 76 84 96 92 87 64 33 21 22 20 15 7 12 9 11\n",
      "2015/01/14 大里 PM2.5 10 7 3 0 3 7 5 1 0 0 0 0 0 0 4 12 13 10 12 14 21 19 15 8\n",
      "2015/01/15 大里 PM2.5 2 3 7 3 7 5 10 7 13 16 14 8 5 13 20 30 30 33 28 29 33 26 23 12\n",
      "2015/01/16 大里 PM2.5 16 15 17 16 16 13 5 10 14 30 30 25 -4# 22 23 30 33 40 43 45 37 34 38 43\n",
      "2015/01/17 大里 PM2.5 42 33 25 18 13 9 12 20 28 33 33 43 52 55 57 60 66 77 76 76 77 74 82 75\n",
      "2015/01/18 大里 PM2.5 77 66 61 62 70 71 69 71 75 82 90 94 88 75 57 47 33 31 25 21 16 16 18 16\n",
      "2015/01/19 大里 PM2.5 14 14 19 18 16 7 6 12 18 30 26 28 31 32 35 37 41 43 42 50 53 54 57 62\n",
      "2015/01/20 大里 PM2.5 62 57 52 53 61 62 62 65 73 82 83 88 83 81 73 71 69 71 66 55 49 42 49 43\n",
      "2015/01/21 大里 PM2.5 46 37 30 31 31 38 42 46 46 36 33 33 37 34 33 33 34 39 48 50 47 45 43 39\n",
      "2015/01/22 大里 PM2.5 36 46 51 43 33 27 36 36 43 29 29 26 32 31 42  73 73 80 82 86 70 74 66\n",
      "2015/01/23 大里 PM2.5 61 47 46 55 49 39 29 31 29 19 12 14 30 49 57 55 57 56 64 72 73 75 68 68\n",
      "2015/01/24 大里 PM2.5 63 61 59 58 56 52 39 33 34 40 30 33 49 66 76 75 73 60 58 67 83 88 87 80\n",
      "2015/01/25 大里 PM2.5 71 68 65 63 63 62 57 55 65 70 79 75 75 64 59 68 78 86 80 74 66 60 49 44\n",
      "2015/01/26 大里 PM2.5 50 53 48 43 38 40 38 47 49 59 55 53 39 29 28 38 51 55 53 55 54 61 55 61\n",
      "2015/01/27 大里 PM2.5 56 52 41 46 49 52 43 43 48 48 40 30 30 33 36 37 35 36 43 46 42 30 22 17\n",
      "2015/01/28 大里 PM2.5 17 9 12 6 7 2 0 0 0 0 2 7 8 13 11 15 12 20 23 21 13 7 11 12\n",
      "2015/01/29 大里 PM2.5 14 14 12 7 1 0 4 6 12 16 15  52x 38x 30 29 27 29 24 24 21 19 19 23\n",
      "2015/01/30 大里 PM2.5 17 15 13 15 14 14 9 8 10 12 12 8 7 12 16 25 24 24 14 10 5 3 7 6\n",
      "2015/01/31 大里 PM2.5 6 0 1 9 9 10 7 12 12 10 17 23 26 27 28 33 31 35 30 33 23 16 8 8\n",
      "2015/02/01 大里 PM2.5 17 11 8 2 3 1 0 2 5 10 8 10 23 26 23 13 11 16 18 23 23 15 16 12\n",
      "2015/02/02 大里 PM2.5 15 12 18 25 25 25 25 32 37 39 45 47 49 45 36 30 21 24 23 27 24 19 10 15\n",
      "2015/02/03 大里 PM2.5 23 27 25 22 17 17 16 23 26 31 28 20 17 22 27 25 23 13 5 3 2 2 2 10\n",
      "2015/02/04 大里 PM2.5 10 12 9 12 7 4 4 2 13 20 26 16 10 19 23 26 21 26 33 28 29 27 31 26\n",
      "2015/02/05 大里 PM2.5 21 28 25 33 33 37 32 19 19 24 39 53 65   93 93 90 86 80 76 75 80 71\n",
      "2015/02/06 大里 PM2.5 63 53 52 51 51 47 43 30 27 28  41 56 60 59 53 53 51 44 41 39 41 35 31\n",
      "2015/02/07 大里 PM2.5 32 32 38 43 49 48 47 54 56 60 62 66 70 73 60 46 23 25 23 40 36 32 25 29\n",
      "2015/02/08 大里 PM2.5 39 38 34 28 14 15 13 23 18 24 26 32 31 33 36 39 38 49 53 60 53 43 34 28\n",
      "2015/02/09 大里 PM2.5 23 15 6 3 6 9 9 7 8 7 12 12 12 7 9 9 12 11 15 12 16 11 15 8\n",
      "2015/02/10 大里 PM2.5 9 3 7 3 4 0 0 0 3 12  11 20 22 28 26 30 32 24 14 17 19 29 24\n",
      "2015/02/11 大里 PM2.5 24 23 24 27 23 11 16 14 32 33 55 58 55 37 24 23 23 30 28 28 27 32 44 47\n",
      "2015/02/12 大里 PM2.5 54 48 47 43 42 43 43 55 54 53 51  48 45 39 45 48 47 47 44 49 56 64 61\n",
      "2015/02/13 大里 PM2.5 51 49 44 46 39 39 37 38 53 54 53 39 39 44 50 50 53 63 74 75 68 70 62 62\n",
      "2015/02/14 大里 PM2.5 54 57 53 52 58 57 53 53 74 82 81 72 68 73 58 53 35 40 48 50 59 57 67 68\n",
      "2015/02/15 大里 PM2.5 66 83 88 94 81 64 58 53 51 57 48 53 43 70 94 104 86 67 58 70 79 79 74 65\n",
      "2015/02/16 大里 PM2.5 70 67 63 55 39 28 28 46 67x 64x  41 33 21 24 18 18 16 23 27 27 38 41 44\n",
      "2015/02/17 大里 PM2.5 43 34 37 32 36 31 23 28 33 49 60 70 77 62 54 41 46 43 41 47 52 59 58 63\n",
      "2015/02/18 大里 PM2.5 67 71 70 67 59 55 51 53 53 55 49 41 38 44 51 53 53 57 49 50 48 47 47 42\n",
      "2015/02/19 大里 PM2.5 58 60 62 47 49 43 37 39 47 58 54 52 51 46 43 35 29 31 27 33 33 43 40 50\n"
     ]
    }
   ],
   "source": [
    "wea_dali = weatherParse.filter(lambda x: x[1] == u'大里' and x[2]== \"PM2.5\")\n",
    "lis = wea_dali.take(50)\n",
    "for x in lis:\n",
    "    for i in range(len(x)):\n",
    "        print x[i],\n",
    "    print \n"
   ]
  },
  {
   "cell_type": "markdown",
   "metadata": {},
   "source": [
    "### 步驟三：資料清洗 (使用 map(), str.strip())\n",
    "#### 在氣象局的原始資料裡，有些數值由於當初偵測時有異常，所以會加註特別符號如\\*\\#等特殊符號，或者沒有取到數值為一空值，這些數值我們必須先經過前處理，我們才能進行算術運算。\n",
    "1. ```2015/01/29 大里 PM2.5 14 14 12 7 1 0 4 6 12 16 15  52x 38x 30 29 27 29 24 24 21 19 19 23```\n",
    "2. ```2015/01/16 大里 PM2.5 16 15 17 16 16 13 5 10 14 30 30 25 -4# 22 23 30 33 40 43 45 37 34 38 43``` "
   ]
  },
  {
   "cell_type": "code",
   "execution_count": 10,
   "metadata": {
    "collapsed": false
   },
   "outputs": [],
   "source": [
    "def strip_symbol(x):\n",
    "    for i in range(len(x)):\n",
    "        x[i] = x[i].strip(\"-*#x\") # remove non-digits\n",
    "        if x[i]==\"\": x[i]=\"0\"\n",
    "    return x\n",
    "\n",
    "wea_dali = wea_dali.map(strip_symbol)\n"
   ]
  },
  {
   "cell_type": "markdown",
   "metadata": {},
   "source": [
    "### 步驟四：key value pair的產生 (重要的操作概念)\n",
    "*將每小時資料轉成(小時,pm數值)，以求取每小時的平均值。\n",
    "\n",
    "例如：\n",
    "    2015/01/01 大里 PM2.5 53 55 58 53 43 36 35 42 55 64 65 59 52 44 47 41 43 40 42 35 28 20 18 16\n",
    "    --> [(3, 53) (4, 55) (5, 58) (6, 53) (7, 43) (8, 36) (9, 35) (10, 42) (11, 55) (12, 64) (13, 65) (14, 59) (15, 52) (16, 44) (17, 47) (18, 41) (19, 43) (20, 40) (21, 42) (22, 35) (23, 28) (24, 20) (25, 18) (26, 16)]\n"
   ]
  },
  {
   "cell_type": "code",
   "execution_count": 24,
   "metadata": {
    "collapsed": false
   },
   "outputs": [
    {
     "name": "stdout",
     "output_type": "stream",
     "text": [
      "2015/01/01 大里 PM2.5 53 55 58 53 43 36 35 42 55 64 65 59 52 44 47 41 43 40 42 35 28 20 18 16\n"
     ]
    }
   ],
   "source": [
    "for i in wea_dali.first():\n",
    "    print i,"
   ]
  },
  {
   "cell_type": "code",
   "execution_count": 12,
   "metadata": {
    "collapsed": false
   },
   "outputs": [
    {
     "name": "stdout",
     "output_type": "stream",
     "text": [
      "(3, 53.0) (4, 55.0) (5, 58.0) (6, 53.0) (7, 43.0) (8, 36.0) (9, 35.0) (10, 42.0) (11, 55.0) (12, 64.0) (13, 65.0) (14, 59.0) (15, 52.0) (16, 44.0) (17, 47.0) (18, 41.0) (19, 43.0) (20, 40.0) (21, 42.0) (22, 35.0) (23, 28.0) (24, 20.0) (25, 18.0) (26, 16.0)\n"
     ]
    }
   ],
   "source": [
    "def hourKeyGen(x):\n",
    "    hourkeypair = []\n",
    "    for i in range(3,27):\n",
    "        hourkeypair.append((i,float(x[i])))\n",
    "    return hourkeypair\n",
    "\n",
    "wea_dali_byHourkey = wea_dali.map(hourKeyGen)\n",
    "\n",
    "for i in wea_dali_byHourkey.first():\n",
    "    print i,"
   ]
  },
  {
   "cell_type": "markdown",
   "metadata": {},
   "source": [
    "### 步驟五： 利用flatMap(), reduceByKey(), groupByKey()，將不同日期但相同時間的pm25值收集起來。(使用flatMap)"
   ]
  },
  {
   "cell_type": "code",
   "execution_count": 13,
   "metadata": {
    "collapsed": false
   },
   "outputs": [
    {
     "data": {
      "text/plain": [
       "[(4, 9382.0),\n",
       " (6, 8673.0),\n",
       " (8, 8021.0),\n",
       " (10, 8604.0),\n",
       " (12, 10677.0),\n",
       " (14, 11047.0),\n",
       " (16, 11188.0),\n",
       " (18, 10274.0),\n",
       " (20, 10328.0),\n",
       " (22, 10700.0)]"
      ]
     },
     "execution_count": 13,
     "metadata": {},
     "output_type": "execute_result"
    }
   ],
   "source": [
    "def hourKeyGen(x):\n",
    "    hourkeypair = []\n",
    "    for i in range(3,27):\n",
    "        hourkeypair.append((i,float(x[i])))\n",
    "    return hourkeypair\n",
    "\n",
    "byHourkey = wea_dali.flatMap(hourKeyGen)\n",
    "byHourkey.reduceByKey(lambda x,y: x+y).take(10)"
   ]
  },
  {
   "cell_type": "markdown",
   "metadata": {},
   "source": [
    "### 步驟六： 計算大里區每個小時區間中，平均之pm25數值 (使用reduceByKey)"
   ]
  },
  {
   "cell_type": "code",
   "execution_count": 14,
   "metadata": {
    "collapsed": false
   },
   "outputs": [
    {
     "data": {
      "text/plain": [
       "[(4, 25.704109589041096),\n",
       " (6, 23.76164383561644),\n",
       " (8, 21.975342465753425),\n",
       " (10, 23.572602739726026),\n",
       " (12, 29.252054794520546),\n",
       " (14, 30.265753424657536),\n",
       " (16, 30.65205479452055),\n",
       " (18, 28.147945205479452),\n",
       " (20, 28.295890410958904),\n",
       " (22, 29.315068493150687),\n",
       " (24, 29.783561643835615),\n",
       " (26, 27.852054794520548),\n",
       " (3, 26.953424657534246),\n",
       " (5, 25.284931506849315),\n",
       " (7, 22.865753424657534),\n",
       " (9, 22.24931506849315),\n",
       " (11, 26.246575342465754),\n",
       " (13, 29.915068493150685),\n",
       " (15, 31.52054794520548),\n",
       " (17, 27.86849315068493),\n",
       " (19, 28.482191780821918),\n",
       " (21, 28.482191780821918),\n",
       " (23, 30.136986301369863),\n",
       " (25, 29.161643835616438)]"
      ]
     },
     "execution_count": 14,
     "metadata": {},
     "output_type": "execute_result"
    }
   ],
   "source": [
    "avg_pm25_hour = byHourkey.reduceByKey(lambda x,y: x+y)\n",
    "avg_pm25_hour.map(lambda x:(x[0],x[1]/365)).collect()"
   ]
  },
  {
   "cell_type": "markdown",
   "metadata": {},
   "source": [
    "### 步驟七： 根據pm25平均濃度，進行排序。使用top( )"
   ]
  },
  {
   "cell_type": "code",
   "execution_count": 15,
   "metadata": {
    "collapsed": false
   },
   "outputs": [
    {
     "data": {
      "text/plain": [
       "[(31.52054794520548, 15),\n",
       " (30.65205479452055, 16),\n",
       " (30.265753424657536, 14),\n",
       " (30.136986301369863, 23),\n",
       " (29.915068493150685, 13),\n",
       " (29.783561643835615, 24),\n",
       " (29.315068493150687, 22),\n",
       " (29.252054794520546, 12),\n",
       " (29.161643835616438, 25),\n",
       " (28.482191780821918, 21),\n",
       " (28.482191780821918, 19),\n",
       " (28.295890410958904, 20),\n",
       " (28.147945205479452, 18),\n",
       " (27.86849315068493, 17),\n",
       " (27.852054794520548, 26),\n",
       " (26.953424657534246, 3),\n",
       " (26.246575342465754, 11),\n",
       " (25.704109589041096, 4),\n",
       " (25.284931506849315, 5),\n",
       " (23.76164383561644, 6),\n",
       " (23.572602739726026, 10),\n",
       " (22.865753424657534, 7),\n",
       " (22.24931506849315, 9),\n",
       " (21.975342465753425, 8)]"
      ]
     },
     "execution_count": 15,
     "metadata": {},
     "output_type": "execute_result"
    }
   ],
   "source": [
    "avg_pm25_hour = byHourkey.reduceByKey(lambda x,y: x+y)\n",
    "avg_pm25_hour.map(lambda x:(x[0],x[1]/365.0)).map(lambda x: (x[1],x[0])).top(24)"
   ]
  },
  {
   "cell_type": "markdown",
   "metadata": {},
   "source": [
    "### 步驟八： 計算每個時間點的統計值，例如最大值、最小值、平均值、標準差(使用 groupByKey()與mapValues())"
   ]
  },
  {
   "cell_type": "code",
   "execution_count": 16,
   "metadata": {
    "collapsed": false
   },
   "outputs": [
    {
     "name": "stdout",
     "output_type": "stream",
     "text": [
      "3 117.0 0.0 26.9534246575 382.022488272\n",
      "4 110.0 0.0 25.704109589 362.937106399\n",
      "5 107.0 0.0 25.2849315068 354.746211297\n",
      "6 102.0 0.0 23.7616438356 330.055515106\n",
      "7 98.0 0.0 22.8657534247 310.538142241\n",
      "8 88.0 0.0 21.9753424658 299.865145431\n",
      "9 96.0 0.0 22.2493150685 273.962499531\n",
      "10 102.0 0.0 23.5726027397 286.573495965\n",
      "11 109.0 0.0 26.2465753425 311.024132107\n",
      "12 114.0 0.0 29.2520547945 361.739208107\n",
      "13 114.0 0.0 29.9150684932 394.806485269\n",
      "14 117.0 0.0 30.2657534247 407.893758679\n",
      "15 112.0 0.0 31.5205479452 404.748207919\n",
      "16 103.0 0.0 30.6520547945 385.361125915\n",
      "17 94.0 0.0 27.8684931507 346.448459373\n",
      "18 104.0 0.0 28.1479452055 354.97537249\n",
      "19 93.0 0.0 28.4821917808 297.400367799\n",
      "20 90.0 0.0 28.295890411 303.534366673\n",
      "21 88.0 0.0 28.4821917808 299.48255958\n",
      "22 99.0 0.0 29.3150684932 342.484293488\n",
      "23 101.0 0.0 30.1369863014 365.712741603\n",
      "24 100.0 0.0 29.7835616438 375.309318822\n",
      "25 107.0 0.0 29.1616438356 390.530035654\n",
      "26 110.0 0.0 27.8520547945 368.131536874\n"
     ]
    }
   ],
   "source": [
    "import numpy as np\n",
    "\n",
    "def hourKeyGen(x):\n",
    "    hourkeypair = []\n",
    "    for i in range(3,27):\n",
    "        hourkeypair.append((int(i),float(x[i])))\n",
    "    return hourkeypair\n",
    "\n",
    "hour_stat_list = byHourkey.groupByKey().mapValues(list).collect()\n",
    "\n",
    "for i in sorted(hour_stat_list):\n",
    "    print i[0],max(i[1]),min(i[1]),np.mean(i[1]),np.var(i[1])"
   ]
  },
  {
   "cell_type": "markdown",
   "metadata": {},
   "source": [
    "# 練習2: 請求取2015年，全國pm2.5最高的前十個工作站測點以及其日期。"
   ]
  },
  {
   "cell_type": "code",
   "execution_count": 17,
   "metadata": {
    "collapsed": false
   },
   "outputs": [],
   "source": [
    "### weatherParse 為原始資料集\n",
    "pm25_data_set = weatherParse.filter(lambda x: x[2]==\"PM2.5\")\n",
    "\n",
    "### 資料清洗\n",
    "def strip_symbol(x):\n",
    "    for i in range(len(x)):\n",
    "        #x[i] = x[i].strip(\"-*#x\") # remove non-digits\n",
    "        if \"#\" in x[i]:x[i]=\"0\"\n",
    "        if \"*\" in x[i]:x[i]=\"0\"\n",
    "        if \"x\" in x[i]:x[i]=\"0\"\n",
    "        if \"-\" in x[i]:x[i]=\"0\"\n",
    "        if x[i]==\"\": x[i]=\"0\"\n",
    "    return x\n",
    "\n",
    "clean_pm25_data_set = pm25_data_set.map(strip_symbol)\n",
    "#clean_pm25_data_set.take(2)"
   ]
  },
  {
   "cell_type": "code",
   "execution_count": 18,
   "metadata": {
    "collapsed": false
   },
   "outputs": [
    {
     "name": "stdout",
     "output_type": "stream",
     "text": [
      "319 2015/04/18埔里_24 \n",
      "301 2015/01/01馬公_4 \n",
      "296 2015/01/01馬公_3 \n",
      "238 2015/04/18埔里_25 \n",
      "238 2015/01/06金門_14 \n",
      "213 2015/01/06金門_13 \n",
      "196 2015/05/11朴子_24 \n",
      "196 2015/01/03三義_25 \n",
      "193 2015/05/11朴子_23 \n",
      "189 2015/01/06金門_8 \n"
     ]
    }
   ],
   "source": [
    "def date_location_time (x):\n",
    "    date_loc_time_measure = []\n",
    "    for i in range(3,27):\n",
    "        date_loc_time_string = x[0]+x[1]+\"_\"+str(i)\n",
    "        date_loc_time_measure.append((date_loc_time_string,int(x[i])))\n",
    "    return date_loc_time_measure\n",
    "\n",
    "top10pm25 = clean_pm25_data_set.flatMap(date_location_time).map(lambda x: (x[1],x[0])).top(10)    \n",
    "\n",
    "for i in top10pm25:\n",
    "    print i[0],i[1],\n",
    "    print \"\""
   ]
  },
  {
   "cell_type": "code",
   "execution_count": 19,
   "metadata": {
    "collapsed": false,
    "scrolled": true
   },
   "outputs": [],
   "source": [
    "precTop10=[]\n",
    "stationsTop10=[]\n",
    "for result in top10pm25:\n",
    "    precTop10.append(result[0])\n",
    "    stationsTop10.append(result[1])"
   ]
  },
  {
   "cell_type": "markdown",
   "metadata": {},
   "source": [
    "Plot your results."
   ]
  },
  {
   "cell_type": "code",
   "execution_count": 23,
   "metadata": {
    "collapsed": false
   },
   "outputs": [
    {
     "data": {
      "image/png": "[encoded data removed]",
      "text/plain": [
       "<matplotlib.figure.Figure at 0x7f245a30bfd0>"
      ]
     },
     "metadata": {},
     "output_type": "display_data"
    }
   ],
   "source": [
    "%matplotlib inline\n",
    "import numpy as np\n",
    "import matplotlib.pyplot as plt\n",
    "\n",
    "N = 10\n",
    "index = np.arange(N)  \n",
    "bar_width = 0.5\n",
    "\n",
    "plt.bar(index, precTop10, bar_width,\n",
    "                 color='b')\n",
    "plt.xlabel('Stations')\n",
    "plt.ylabel('pm25')\n",
    "plt.title('10 stations with the highest average pm25')\n",
    "plt.xticks(index + bar_width, stationsTop10, rotation=90)\n",
    "plt.show()"
   ]
  },
  {
   "cell_type": "markdown",
   "metadata": {},
   "source": [
    "# 練習3: 請算算看2015全國哪個測站，紫爆天數最多？\n",
    "### 假設當日平均值大於60，則算該日該地區紫爆\n"
   ]
  },
  {
   "cell_type": "code",
   "execution_count": 22,
   "metadata": {
    "collapsed": false
   },
   "outputs": [
    {
     "name": "stdout",
     "output_type": "stream",
     "text": [
      "竹山 28 \n",
      "斗六 28 \n",
      "崙背 25 \n",
      "金門 21 \n",
      "善化 20 \n",
      "埔里 18 \n",
      "復興 17 \n",
      "左營 17 \n",
      "橋頭 16 \n",
      "小港 15 \n",
      "嘉義 14 \n",
      "楠梓 13 \n",
      "麥寮 13 \n",
      "大里 13 \n",
      "二林 13 \n",
      "忠明 12 \n",
      "鳳山 12 \n",
      "大寮 12 \n",
      "仁武 12 \n",
      "臺西 11 \n",
      "西屯 10 \n",
      "馬祖 10 \n",
      "前鎮 10 \n",
      "林園 10 \n",
      "安南 9 \n",
      "屏東 9 \n",
      "臺南 9 \n",
      "新營 9 \n",
      "新港 8 \n",
      "潮州 8 \n",
      "南投 8 \n",
      "前金 8 \n",
      "線西 7 \n",
      "彰化 7 \n",
      "朴子 6 \n",
      "桃園 4 \n",
      "萬華 4 \n",
      "新莊 4 \n",
      "頭份 4 \n",
      "沙鹿 4 \n",
      "古亭 3 \n",
      "美濃 3 \n",
      "中山 3 \n",
      "苗栗 3 \n",
      "林口 3 \n",
      "新店 2 \n",
      "松山 2 \n",
      "平鎮 2 \n",
      "龍潭 2 \n",
      "永和 2 \n",
      "竹東 2 \n",
      "三重 2 \n",
      "基隆 2 \n",
      "大園 1 \n",
      "中壢 1 \n",
      "觀音 1 \n",
      "土城 1 \n",
      "湖口 1 \n",
      "新竹 1 \n",
      "豐原 1 \n",
      "士林 1 \n",
      "萬里 1 \n",
      "板橋 1 \n"
     ]
    }
   ],
   "source": [
    "pm25_data_set = weatherParse.filter(lambda x: x[2]==\"PM2.5\")\n",
    "\n",
    "### 資料清洗\n",
    "def strip_symbol(x):\n",
    "    for i in range(len(x)):\n",
    "        #x[i] = x[i].strip(\"-*#x\") # remove non-digits\n",
    "        if \"#\" in x[i]:x[i]=\"0\"\n",
    "        if \"*\" in x[i]:x[i]=\"0\"\n",
    "        if \"x\" in x[i]:x[i]=\"0\"\n",
    "        if \"-\" in x[i]:x[i]=\"0\"\n",
    "        if x[i]==\"\": x[i]=\"0\"\n",
    "    return x\n",
    "\n",
    "def toFloat(x):\n",
    "    location = x[1]\n",
    "    del x[0:3]\n",
    "    for i in range(len(x)):\n",
    "        x[i]=float(x[i])\n",
    "    return (location, sum(x)/len(x))\n",
    "\n",
    "clean_pm25_data_set = pm25_data_set.map(strip_symbol)\n",
    "Worst = clean_pm25_data_set.map(toFloat).filter(lambda x:x[1]>60).\n",
    "\\groupByKey().mapValues(list)\\\n",
    ".map(lambda x:(x[0],len(x[1]))).sortBy(lambda x:x[1], ascending=False).collect()\n",
    "\n",
    "for loc in Worst:\n",
    "    print loc[0],loc[1],\n",
    "    print \"\"\n",
    "\n",
    "\n"
   ]
  },
  {
   "cell_type": "code",
   "execution_count": null,
   "metadata": {
    "collapsed": true
   },
   "outputs": [],
   "source": []
  }
 ],
 "metadata": {
  "kernelspec": {
   "display_name": "Python 2 with Spark 2.0",
   "language": "python",
   "name": "python2-spark20"
  },
  "language_info": {
   "codemirror_mode": {
    "name": "ipython",
    "version": 2
   },
   "file_extension": ".py",
   "mimetype": "text/x-python",
   "name": "python",
   "nbconvert_exporter": "python",
   "pygments_lexer": "ipython2",
   "version": "2.7.11"
  },
  "name": "cds_ax_spark.ipynb"
 },
 "nbformat": 4,
 "nbformat_minor": 0
}